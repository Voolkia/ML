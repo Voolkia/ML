{
 "cells": [
  {
   "cell_type": "code",
   "execution_count": 1,
   "metadata": {},
   "outputs": [],
   "source": [
    "import pandas as pd\n",
    "import numpy as np\n",
    "import seaborn as sns\n",
    "import matplotlib.pyplot as plt\n",
    "from sklearn.metrics import roc_auc_score, f1_score, confusion_matrix\n",
    "\n",
    "churn = 3"
   ]
  },
  {
   "cell_type": "markdown",
   "metadata": {},
   "source": [
    "Loading datasets"
   ]
  },
  {
   "cell_type": "code",
   "execution_count": 2,
   "metadata": {
    "scrolled": true
   },
   "outputs": [],
   "source": [
    "df_train = pd.read_feather(f\"../../data/processed/Churn_{churn}_train_set.feather\")"
   ]
  },
  {
   "cell_type": "code",
   "execution_count": 3,
   "metadata": {},
   "outputs": [
    {
     "data": {
      "text/plain": [
       "(670281, 122)"
      ]
     },
     "execution_count": 3,
     "metadata": {},
     "output_type": "execute_result"
    }
   ],
   "source": [
    "df_train.shape"
   ]
  },
  {
   "cell_type": "code",
   "execution_count": 4,
   "metadata": {},
   "outputs": [],
   "source": [
    "df_opt = pd.read_feather(f\"../../data/processed/Churn_{churn}_optimization_set.feather\")"
   ]
  },
  {
   "cell_type": "code",
   "execution_count": 5,
   "metadata": {},
   "outputs": [
    {
     "data": {
      "text/plain": [
       "(670938, 122)"
      ]
     },
     "execution_count": 5,
     "metadata": {},
     "output_type": "execute_result"
    }
   ],
   "source": [
    "df_opt.shape"
   ]
  },
  {
   "cell_type": "markdown",
   "metadata": {},
   "source": [
    "split X, y "
   ]
  },
  {
   "cell_type": "code",
   "execution_count": 6,
   "metadata": {},
   "outputs": [],
   "source": [
    "X_train = df_train.drop([f'BAJA_{churn}m', 'CIF_ID'], axis=1)\n",
    "y_train = df_train[f'BAJA_{churn}m']\n",
    "del df_train"
   ]
  },
  {
   "cell_type": "code",
   "execution_count": 7,
   "metadata": {},
   "outputs": [],
   "source": [
    "X_opt = df_opt.drop([f'BAJA_{churn}m','CIF_ID'], axis=1)\n",
    "y_opt = df_opt[f'BAJA_{churn}m']\n",
    "del df_opt"
   ]
  },
  {
   "cell_type": "code",
   "execution_count": 8,
   "metadata": {},
   "outputs": [],
   "source": [
    "cols = list(X_train.columns)"
   ]
  },
  {
   "cell_type": "code",
   "execution_count": 9,
   "metadata": {},
   "outputs": [],
   "source": [
    "X_train = X_train.fillna(-999)"
   ]
  },
  {
   "cell_type": "code",
   "execution_count": 10,
   "metadata": {},
   "outputs": [],
   "source": [
    "X_opt = X_opt.fillna(-999)\n",
    "for col in [col for col in X_train.columns if col not in X_opt.columns]:\n",
    "    X_opt[col] = -999"
   ]
  },
  {
   "cell_type": "code",
   "execution_count": 11,
   "metadata": {},
   "outputs": [],
   "source": [
    "X_opt = X_opt.drop([col for col in X_opt.columns if col not in X_train.columns], axis=1)"
   ]
  },
  {
   "cell_type": "code",
   "execution_count": 12,
   "metadata": {},
   "outputs": [
    {
     "name": "stdout",
     "output_type": "stream",
     "text": [
      "False    0.982067\n",
      "True     0.017933\n",
      "Name: BAJA_3m, dtype: float64\n",
      "False    0.978175\n",
      "True     0.021825\n",
      "Name: BAJA_3m, dtype: float64\n"
     ]
    }
   ],
   "source": [
    "for y in [y_train, y_opt]:\n",
    "    print(y.value_counts(normalize=True))"
   ]
  },
  {
   "cell_type": "code",
   "execution_count": 13,
   "metadata": {},
   "outputs": [
    {
     "data": {
      "text/plain": [
       "120"
      ]
     },
     "execution_count": 13,
     "metadata": {},
     "output_type": "execute_result"
    }
   ],
   "source": [
    "len(X_opt.columns) "
   ]
  },
  {
   "cell_type": "code",
   "execution_count": 14,
   "metadata": {},
   "outputs": [
    {
     "data": {
      "text/plain": [
       "120"
      ]
     },
     "execution_count": 14,
     "metadata": {},
     "output_type": "execute_result"
    }
   ],
   "source": [
    "len(X_train.columns)"
   ]
  },
  {
   "cell_type": "markdown",
   "metadata": {},
   "source": [
    "## Training"
   ]
  },
  {
   "cell_type": "code",
   "execution_count": 15,
   "metadata": {},
   "outputs": [],
   "source": [
    "from hyperopt import tpe, fmin, space_eval, Trials, STATUS_OK, hp\n",
    "from sklearn.metrics import f1_score, roc_auc_score \n",
    "from numpy.random import RandomState\n",
    "from sklearn.ensemble import RandomForestClassifier, ExtraTreesClassifier\n",
    "from tqdm import tqdm_notebook as tqdm"
   ]
  },
  {
   "cell_type": "code",
   "execution_count": 16,
   "metadata": {},
   "outputs": [],
   "source": [
    "from sklearn.utils.class_weight import compute_class_weight "
   ]
  },
  {
   "cell_type": "code",
   "execution_count": 17,
   "metadata": {},
   "outputs": [
    {
     "data": {
      "text/plain": [
       "{0: 1.0, 1: 54.76381031613976}"
      ]
     },
     "execution_count": 17,
     "metadata": {},
     "output_type": "execute_result"
    }
   ],
   "source": [
    "cw = compute_class_weight(\"balanced\", y_train.unique(), y_train)\n",
    "{i:val for i,val in enumerate(cw * (1/cw[0]))}"
   ]
  },
  {
   "cell_type": "code",
   "execution_count": 18,
   "metadata": {},
   "outputs": [],
   "source": [
    "space = {\n",
    "    \"algo\": hp.choice(\"algo\", [RandomForestClassifier]),\n",
    "    \"params\": {\n",
    "        \"n_estimators\": hp.choice(\"n_estimators\", [40, 80, 100]),  # 100, 400\n",
    "        \"min_samples_leaf\": hp.choice(\"min_samples_leaf\", [5, 20, 35, 55]), # , 65\n",
    "        \"max_depth\": hp.choice(\"max_depth\", [5, 10, 15]), # 10,\n",
    "        \"max_features\": hp.choice(\"max_features\", ['sqrt', 0.5, None]),\n",
    "        \"class_weight\": hp.choice(\"class_weight\", [{0:1, 1:30}, {0:1, 1:40},  {0:1, 1:50}]) ,\n",
    "    }\n",
    "}"
   ]
  },
  {
   "cell_type": "code",
   "execution_count": 19,
   "metadata": {},
   "outputs": [
    {
     "data": {
      "application/vnd.jupyter.widget-view+json": {
       "model_id": "6e16f00a34c74c9ab65bcf9718d2d634",
       "version_major": 2,
       "version_minor": 0
      },
      "text/plain": [
       "HBox(children=(IntProgress(value=0, max=30), HTML(value='')))"
      ]
     },
     "metadata": {},
     "output_type": "display_data"
    },
    {
     "name": "stdout",
     "output_type": "stream",
     "text": [
      "Testing <class 'sklearn.ensemble.forest.RandomForestClassifier'> with 80 estimators\n",
      "Current Score: 0.8957717517028659\n",
      "Testing <class 'sklearn.ensemble.forest.RandomForestClassifier'> with 100 estimators\n",
      "Current Score: 0.9215246636771302\n",
      "Testing <class 'sklearn.ensemble.forest.RandomForestClassifier'> with 100 estimators\n",
      "Current Score: 0.8996522127564531\n",
      "Testing <class 'sklearn.ensemble.forest.RandomForestClassifier'> with 40 estimators\n",
      "Current Score: 0.8975003221234378\n",
      "Testing <class 'sklearn.ensemble.forest.RandomForestClassifier'> with 80 estimators\n",
      "Current Score: 0.9219998679083286\n",
      "Testing <class 'sklearn.ensemble.forest.RandomForestClassifier'> with 80 estimators\n",
      "Current Score: 0.9384397545681343\n",
      "Testing <class 'sklearn.ensemble.forest.RandomForestClassifier'> with 40 estimators\n",
      "Current Score: 0.9488012585929751\n",
      "Testing <class 'sklearn.ensemble.forest.RandomForestClassifier'> with 100 estimators\n",
      "Current Score: 0.9338489721147976\n",
      "Testing <class 'sklearn.ensemble.forest.RandomForestClassifier'> with 40 estimators\n",
      "Current Score: 0.935414568647197\n",
      "Testing <class 'sklearn.ensemble.forest.RandomForestClassifier'> with 40 estimators\n",
      "Current Score: 0.9064585087776124\n",
      "Testing <class 'sklearn.ensemble.forest.RandomForestClassifier'> with 100 estimators\n",
      "Current Score: 0.7395179927368767\n",
      "Testing <class 'sklearn.ensemble.forest.RandomForestClassifier'> with 40 estimators\n",
      "Current Score: 0.913030727622275\n",
      "Testing <class 'sklearn.ensemble.forest.RandomForestClassifier'> with 80 estimators\n",
      "Current Score: 0.9240963456250206\n",
      "Testing <class 'sklearn.ensemble.forest.RandomForestClassifier'> with 40 estimators\n",
      "Current Score: 0.9218997361477572\n",
      "Testing <class 'sklearn.ensemble.forest.RandomForestClassifier'> with 40 estimators\n",
      "Current Score: 0.9289181461533347\n",
      "Testing <class 'sklearn.ensemble.forest.RandomForestClassifier'> with 40 estimators\n",
      "Current Score: 0.9447513812154698\n",
      "Testing <class 'sklearn.ensemble.forest.RandomForestClassifier'> with 100 estimators\n",
      "Current Score: 0.9264515271361627\n",
      "Testing <class 'sklearn.ensemble.forest.RandomForestClassifier'> with 40 estimators\n",
      "Current Score: 0.8959156785243743\n",
      "Testing <class 'sklearn.ensemble.forest.RandomForestClassifier'> with 40 estimators\n",
      "Current Score: 0.7537334679193519\n",
      "Testing <class 'sklearn.ensemble.forest.RandomForestClassifier'> with 40 estimators\n",
      "Current Score: 0.900418410041841\n",
      "Testing <class 'sklearn.ensemble.forest.RandomForestClassifier'> with 40 estimators\n",
      "Current Score: 0.9470490899062327\n",
      "Testing <class 'sklearn.ensemble.forest.RandomForestClassifier'> with 40 estimators\n",
      "Current Score: 0.9470490899062327\n",
      "Testing <class 'sklearn.ensemble.forest.RandomForestClassifier'> with 40 estimators\n",
      "Current Score: 0.9470490899062327\n",
      "Testing <class 'sklearn.ensemble.forest.RandomForestClassifier'> with 40 estimators\n",
      "Current Score: 0.9470490899062327\n",
      "Testing <class 'sklearn.ensemble.forest.RandomForestClassifier'> with 40 estimators\n",
      "Current Score: 0.9470490899062327\n",
      "Testing <class 'sklearn.ensemble.forest.RandomForestClassifier'> with 40 estimators\n",
      "Current Score: 0.9470490899062327\n",
      "Testing <class 'sklearn.ensemble.forest.RandomForestClassifier'> with 80 estimators\n",
      "Current Score: 0.9482275800833276\n",
      "Testing <class 'sklearn.ensemble.forest.RandomForestClassifier'> with 80 estimators\n",
      "Current Score: 0.9482275800833276\n",
      "Testing <class 'sklearn.ensemble.forest.RandomForestClassifier'> with 80 estimators\n",
      "Current Score: 0.9482275800833276\n",
      "Testing <class 'sklearn.ensemble.forest.RandomForestClassifier'> with 80 estimators\n",
      "Current Score: 0.9482275800833276\n",
      "\n",
      "{'algo': <class 'sklearn.ensemble.forest.RandomForestClassifier'>, 'params': {'class_weight': {0: 1, 1: 50}, 'max_depth': 15, 'max_features': 0.5, 'min_samples_leaf': 5, 'n_estimators': 40, 'verbose': 0, 'n_jobs': -1, 'random_state': 42}}\n"
     ]
    }
   ],
   "source": [
    "evals = 30\n",
    "pbar = tqdm(total=evals)\n",
    "\n",
    "def __optimizerFunc(args):\n",
    "    pbar.update(0.5)\n",
    "    print(f\"Testing {args['algo']} with {args['params']['n_estimators']} estimators\")\n",
    "    args[\"params\"][\"verbose\"] = 0\n",
    "    args[\"params\"][\"n_jobs\"] = -1\n",
    "    args[\"params\"][\"random_state\"] = 42\n",
    "    model = args[\"algo\"](**args[\"params\"])\n",
    "    model.fit(X_train, y_train)\n",
    "    y_pred = model.predict(X_opt)\n",
    "    pbar.update(0.5)\n",
    "    # greater is better\n",
    "    score = f1_score(y_opt, y_pred)\n",
    "    print(f\"Current Score: {score}\")\n",
    "    return {\"loss\": 1-score, \"status\": STATUS_OK, \"config\":args}\n",
    "         \n",
    "trials = Trials()\n",
    "try:\n",
    "    __bestClassifier = fmin(fn=__optimizerFunc,\n",
    "                            space=space,\n",
    "                            algo=tpe.suggest,\n",
    "                            max_evals=evals,\n",
    "                            trials=trials,\n",
    "                            rstate=RandomState(42)\n",
    "                            )\n",
    "except KeyboardInterrupt:\n",
    "    print(\"Execution stopped... saving current results\")\n",
    "finally:\n",
    "    losses = [result[\"loss\"] for result in trials.results if result[\"status\"] == 'ok']\n",
    "    opt_config = trials.results[losses.index(min(losses))][\"config\"]\n",
    "    pbar.close()\n",
    "    print(opt_config)"
   ]
  },
  {
   "cell_type": "code",
   "execution_count": 20,
   "metadata": {},
   "outputs": [],
   "source": [
    "rf = opt_config['algo'](**opt_config['params'])"
   ]
  },
  {
   "cell_type": "code",
   "execution_count": 21,
   "metadata": {},
   "outputs": [
    {
     "data": {
      "text/plain": [
       "RandomForestClassifier(bootstrap=True, class_weight={0: 1, 1: 50},\n",
       "                       criterion='gini', max_depth=15, max_features=0.5,\n",
       "                       max_leaf_nodes=None, min_impurity_decrease=0.0,\n",
       "                       min_impurity_split=None, min_samples_leaf=5,\n",
       "                       min_samples_split=2, min_weight_fraction_leaf=0.0,\n",
       "                       n_estimators=40, n_jobs=-1, oob_score=False,\n",
       "                       random_state=42, verbose=0, warm_start=False)"
      ]
     },
     "execution_count": 21,
     "metadata": {},
     "output_type": "execute_result"
    }
   ],
   "source": [
    "rf"
   ]
  },
  {
   "cell_type": "markdown",
   "metadata": {},
   "source": [
    "rf = RandomForestClassifier(bootstrap=True, class_weight={0: 1, 1: 40},\n",
    "                       criterion='gini', max_depth=15, max_features='sqrt',\n",
    "                       max_leaf_nodes=None, min_impurity_decrease=0.0,\n",
    "                       min_impurity_split=None, min_samples_leaf=5,\n",
    "                       min_samples_split=2, min_weight_fraction_leaf=0.0,\n",
    "                       n_estimators=40, n_jobs=-1, oob_score=False,\n",
    "                       random_state=42, verbose=0, warm_start=False)"
   ]
  },
  {
   "cell_type": "code",
   "execution_count": 22,
   "metadata": {
    "scrolled": true
   },
   "outputs": [
    {
     "data": {
      "text/plain": [
       "RandomForestClassifier(bootstrap=True, class_weight={0: 1, 1: 50},\n",
       "                       criterion='gini', max_depth=15, max_features=0.5,\n",
       "                       max_leaf_nodes=None, min_impurity_decrease=0.0,\n",
       "                       min_impurity_split=None, min_samples_leaf=5,\n",
       "                       min_samples_split=2, min_weight_fraction_leaf=0.0,\n",
       "                       n_estimators=40, n_jobs=-1, oob_score=False,\n",
       "                       random_state=42, verbose=0, warm_start=False)"
      ]
     },
     "execution_count": 22,
     "metadata": {},
     "output_type": "execute_result"
    }
   ],
   "source": [
    "rf.fit(X_train, y_train)"
   ]
  },
  {
   "cell_type": "markdown",
   "metadata": {},
   "source": [
    "---"
   ]
  },
  {
   "cell_type": "markdown",
   "metadata": {},
   "source": [
    "### Feature importance"
   ]
  },
  {
   "cell_type": "code",
   "execution_count": 23,
   "metadata": {},
   "outputs": [
    {
     "data": {
      "text/plain": [
       "<matplotlib.axes._subplots.AxesSubplot at 0x28b00b9ec50>"
      ]
     },
     "execution_count": 23,
     "metadata": {},
     "output_type": "execute_result"
    },
    {
     "data": {
      "image/png": "[encoded data removed]",
      "text/plain": [
       "<Figure size 432x288 with 1 Axes>"
      ]
     },
     "metadata": {},
     "output_type": "display_data"
    }
   ],
   "source": [
    "pd.DataFrame(rf.feature_importances_,index=X_train.columns, columns=['importance']\n",
    "                                   ).sort_values('importance', ascending=False).iloc[0:20].plot.bar()"
   ]
  },
  {
   "cell_type": "markdown",
   "metadata": {},
   "source": [
    "**METRICS**"
   ]
  },
  {
   "cell_type": "code",
   "execution_count": 24,
   "metadata": {},
   "outputs": [],
   "source": [
    "df_val = pd.read_feather(f\"../../data/processed/Churn_{churn}_validation_set.feather\")"
   ]
  },
  {
   "cell_type": "code",
   "execution_count": 25,
   "metadata": {},
   "outputs": [],
   "source": [
    "X_val = df_val.drop([f'BAJA_{churn}m','CIF_ID'], axis=1)\n",
    "y_val = df_val[f\"BAJA_{churn}m\"]\n",
    "del df_val"
   ]
  },
  {
   "cell_type": "code",
   "execution_count": 26,
   "metadata": {},
   "outputs": [],
   "source": [
    "X_val = X_val.fillna(-999)\n",
    "for col in [col for col in X_train.columns if col not in X_val.columns]:\n",
    "    X_val[col] = -999"
   ]
  },
  {
   "cell_type": "code",
   "execution_count": 27,
   "metadata": {},
   "outputs": [],
   "source": [
    "X_val = X_val.drop([col for col in X_val.columns if col not in X_train.columns], axis=1)"
   ]
  },
  {
   "cell_type": "code",
   "execution_count": 28,
   "metadata": {},
   "outputs": [
    {
     "data": {
      "text/plain": [
       "120"
      ]
     },
     "execution_count": 28,
     "metadata": {},
     "output_type": "execute_result"
    }
   ],
   "source": [
    "len(X_val.columns)"
   ]
  },
  {
   "cell_type": "code",
   "execution_count": 29,
   "metadata": {},
   "outputs": [
    {
     "data": {
      "text/plain": [
       "False    653759\n",
       "True      14881\n",
       "dtype: int64"
      ]
     },
     "execution_count": 29,
     "metadata": {},
     "output_type": "execute_result"
    }
   ],
   "source": [
    "predictions = rf.predict(X_val)\n",
    "pd.Series(predictions).value_counts()"
   ]
  },
  {
   "cell_type": "code",
   "execution_count": 30,
   "metadata": {},
   "outputs": [],
   "source": [
    "import seaborn as sns"
   ]
  },
  {
   "cell_type": "code",
   "execution_count": 31,
   "metadata": {},
   "outputs": [
    {
     "data": {
      "text/plain": [
       "<matplotlib.axes._subplots.AxesSubplot at 0x28b00f75ba8>"
      ]
     },
     "execution_count": 31,
     "metadata": {},
     "output_type": "execute_result"
    },
    {
     "data": {
      "image/png": "[encoded data removed]",
      "text/plain": [
       "<Figure size 432x288 with 2 Axes>"
      ]
     },
     "metadata": {},
     "output_type": "display_data"
    }
   ],
   "source": [
    "cmap = sns.color_palette(\"coolwarm\", 7)\n",
    "sns.set(font_scale=1)\n",
    "sns.heatmap(confusion_matrix(y_val, predictions), annot=True, fmt=\"d\", linewidths=.5, cmap=cmap) "
   ]
  },
  {
   "cell_type": "code",
   "execution_count": 32,
   "metadata": {},
   "outputs": [
    {
     "name": "stdout",
     "output_type": "stream",
     "text": [
      "ROC AUC: 0.9643655408234089 \n"
     ]
    }
   ],
   "source": [
    "print(f'ROC AUC: {roc_auc_score(y_val, predictions)} ') "
   ]
  },
  {
   "cell_type": "code",
   "execution_count": 33,
   "metadata": {},
   "outputs": [
    {
     "data": {
      "text/plain": [
       "<matplotlib.axes._subplots.AxesSubplot at 0x28b01029ba8>"
      ]
     },
     "execution_count": 33,
     "metadata": {},
     "output_type": "execute_result"
    },
    {
     "data": {
      "image/png": "[encoded data removed]",
      "text/plain": [
       "<Figure size 360x360 with 1 Axes>"
      ]
     },
     "metadata": {},
     "output_type": "display_data"
    }
   ],
   "source": [
    "data = pd.DataFrame(columns=range(2), data=[f1_score(y_val, predictions, average=None)])\n",
    "data.index = [\"F1 Score\"]\n",
    "import matplotlib.pyplot as plt\n",
    "fig=plt.figure(figsize=(5,5))\n",
    "sns.set(font_scale=1.3)\n",
    "cmap = sns.color_palette(\"coolwarm_r\", 7)\n",
    "sns.heatmap(data, annot=True, linewidths=.5, cmap=cmap, square=True, cbar=False)"
   ]
  },
  {
   "cell_type": "code",
   "execution_count": 34,
   "metadata": {},
   "outputs": [
    {
     "data": {
      "image/png": "[encoded data removed]",
      "text/plain": [
       "<Figure size 720x720 with 1 Axes>"
      ]
     },
     "metadata": {},
     "output_type": "display_data"
    }
   ],
   "source": [
    "from sklearn.metrics import roc_curve\n",
    "\n",
    "probs = rf.predict_proba(X_val)\n",
    "probs = probs[:, 1]\n",
    "fig=plt.figure(figsize=(10,10))\n",
    "fpr, tpr, thresholds = roc_curve(y_val, probs)\n",
    "plt.plot([0, 1], [0, 1], linestyle='--')\n",
    "plt.plot(fpr, tpr, marker='.')\n",
    "plt.show()"
   ]
  },
  {
   "cell_type": "markdown",
   "metadata": {},
   "source": [
    "#### Dumping model"
   ]
  },
  {
   "cell_type": "code",
   "execution_count": 35,
   "metadata": {},
   "outputs": [],
   "source": [
    "import pickle"
   ]
  },
  {
   "cell_type": "code",
   "execution_count": 36,
   "metadata": {},
   "outputs": [],
   "source": [
    "with open(f'../../src/models/Churn{churn}-Hyperotimization-Numeric.md', 'wb') as file:\n",
    "    pickle.dump(rf, file, pickle.HIGHEST_PROTOCOL)"
   ]
  },
  {
   "cell_type": "code",
   "execution_count": null,
   "metadata": {},
   "outputs": [],
   "source": []
  }
 ],
 "metadata": {
  "kernelspec": {
   "display_name": "Python 3",
   "language": "python",
   "name": "python3"
  },
  "language_info": {
   "codemirror_mode": {
    "name": "ipython",
    "version": 3
   },
   "file_extension": ".py",
   "mimetype": "text/x-python",
   "name": "python",
   "nbconvert_exporter": "python",
   "pygments_lexer": "ipython3",
   "version": "3.6.5"
  }
 },
 "nbformat": 4,
 "nbformat_minor": 4
}
