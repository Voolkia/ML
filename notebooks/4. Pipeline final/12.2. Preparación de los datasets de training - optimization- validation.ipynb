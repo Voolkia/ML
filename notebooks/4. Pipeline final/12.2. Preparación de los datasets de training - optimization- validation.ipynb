{
 "cells": [
  {
   "cell_type": "code",
   "execution_count": 1,
   "metadata": {},
   "outputs": [],
   "source": [
    "import pandas as pd\n",
    "import re"
   ]
  },
  {
   "cell_type": "markdown",
   "metadata": {},
   "source": [
    "## Armado de dataset para entrenamiento del modelo"
   ]
  },
  {
   "cell_type": "code",
   "execution_count": 2,
   "metadata": {},
   "outputs": [],
   "source": [
    "df = pd.read_feather('../../data/processed/merged_data_13_periods.feather')"
   ]
  },
  {
   "cell_type": "code",
   "execution_count": 3,
   "metadata": {},
   "outputs": [
    {
     "data": {
      "text/plain": [
       "(870826, 224)"
      ]
     },
     "execution_count": 3,
     "metadata": {},
     "output_type": "execute_result"
    }
   ],
   "source": [
    "df.shape"
   ]
  },
  {
   "cell_type": "markdown",
   "metadata": {},
   "source": [
    "### Detectamos inconsistencias: (Ej. Del periodo 1 a 3 no hay cargados valores para SITUACION_PP"
   ]
  },
  {
   "cell_type": "markdown",
   "metadata": {},
   "source": [
    "<h4 style=\"color:red\" > Se soluciona agregando las columnas al dataframe</h4>"
   ]
  },
  {
   "cell_type": "code",
   "execution_count": 4,
   "metadata": {},
   "outputs": [
    {
     "data": {
      "text/plain": [
       "{'MONTO_PAGO_',\n",
       " '_COBRO_BA',\n",
       " '_COBRO_CC',\n",
       " '_COBRO_PP',\n",
       " '_COBRO_SJ',\n",
       " '_COBRO_TA',\n",
       " '_SITUACION_AM',\n",
       " '_SITUACION_CT',\n",
       " '_SITUACION_EP',\n",
       " '_SITUACION_PP',\n",
       " '_TIPOINT_A',\n",
       " '_TIPOINT_I',\n",
       " '_TIPOINT_O',\n",
       " 'demora_pago_',\n",
       " 'periodo_liquidacion_sini_',\n",
       " 'periodo_rechazo_sini_',\n",
       " 'periodo_sini_'}"
      ]
     },
     "execution_count": 4,
     "metadata": {},
     "output_type": "execute_result"
    }
   ],
   "source": [
    "periodic_cols = set([''.join([s for s in col if not s.isdigit()]) for col in df[[col for col in df.columns if re.search(f'\\d', col)]].columns])\n",
    "periodic_cols"
   ]
  },
  {
   "cell_type": "code",
   "execution_count": 5,
   "metadata": {},
   "outputs": [],
   "source": [
    "to_check = ['_COBRO_BA',\n",
    " '_COBRO_CC',\n",
    " '_COBRO_PP',\n",
    " '_COBRO_SJ',\n",
    " '_COBRO_TA',\n",
    " '_SITUACION_AM',\n",
    " '_SITUACION_CT',\n",
    " '_SITUACION_EP',\n",
    " '_SITUACION_PP',\n",
    " '_TIPOINT_A',\n",
    " '_TIPOINT_I',\n",
    " '_TIPOINT_O']"
   ]
  },
  {
   "cell_type": "code",
   "execution_count": 6,
   "metadata": {},
   "outputs": [
    {
     "name": "stdout",
     "output_type": "stream",
     "text": [
      "adding 1_SITUACION_PP\n",
      "adding 2_SITUACION_PP\n"
     ]
    }
   ],
   "source": [
    "import numpy as np\n",
    "\n",
    "for i in range(1,13):\n",
    "    for col in to_check:\n",
    "        if(f'{i}{col}' not in df.columns):\n",
    "            print(f'adding {i}{col}')\n",
    "            df[f'{i}{col}'] = np.nan"
   ]
  },
  {
   "cell_type": "markdown",
   "metadata": {},
   "source": [
    "### Script de agrupación de registros de acuerdo a las ventanas temporales. El test está en *1. Test to arrange datasets by time periods*"
   ]
  },
  {
   "cell_type": "code",
   "execution_count": 7,
   "metadata": {},
   "outputs": [
    {
     "name": "stdout",
     "output_type": "stream",
     "text": [
      "----------TIME WINDOW: 1 a 6-----------\n",
      "Next window...                        \n",
      "----------TIME WINDOW: 2 a 7-----------\n",
      "Next window...                        \n",
      "----------TIME WINDOW: 3 a 8-----------\n",
      "Next window...                        \n",
      "----------TIME WINDOW: 4 a 9-----------\n",
      "Next window...                        \n",
      "Ready!\n"
     ]
    }
   ],
   "source": [
    "churn = 2\n",
    "total_periods = 13\n",
    "\n",
    "# Buscamos las features que son periódicas\n",
    "periodic_cols = set([''.join([s for s in col if not s.isdigit()]) for col in df[[col for col in df.columns if re.search(f'\\d', col)]].columns])\n",
    "\n",
    "# Armamos otro dataframe con todas las features que no son temporales\n",
    "non_periodic_df = df[[col for col in df.columns if not any(char.isdigit() for char in col)]]\n",
    "\n",
    "# Definimos ventana inicial\n",
    "w_low = 1\n",
    "w_top = 6\n",
    "\n",
    "final_df = pd.DataFrame()\n",
    "\n",
    "while(w_top <= (total_periods-churn-2)):\n",
    "    print(f\"----------TIME WINDOW: {w_low} a {w_top}-----------\")\n",
    "    # Armamos todo el nuevo dataset del periodo en grouped_df\n",
    "    grouped_df = non_periodic_df.copy(deep=True)\n",
    "\n",
    "    #Seleccionamos las features del periodo\n",
    "    print(\"Seleccionando features por periodo...                       \", end=\"\\r\", flush=True)\n",
    "    for pcol in periodic_cols:\n",
    "        regex_range = \"|\".join([str(i) for i in range(w_low, w_top+1)])\n",
    "        regex = f'{pcol}({regex_range})$|^({regex_range}){pcol}'\n",
    "        columns = [col for col in df.columns if re.search(regex, col)]\n",
    "        grouped_df[[f\"{i}_{pcol}\" for i in range(6, 0, -1)]] = df[columns]\n",
    "\n",
    "    # Buscamos los clientes que no tienen polizas en el periodo analizado\n",
    "    print(\"Buscando clientes sin polizas...                       \", end=\"\\r\", flush=True)\n",
    "    grouped_df = grouped_df[grouped_df[\"hist_polizas\"].str.split(\" \", expand=True).iloc[:,w_low-1:w_top].astype(float).sum(axis=1) > 0]\n",
    "    \n",
    "    # Buscamos las polizas que ya se dieron de baja en el periodo analizado\n",
    "    print(\"Buscando clientes que ya se dieron de baja...                  \", end=\"\\r\", flush=True)\n",
    "    grouped_df = grouped_df[~grouped_df[\"periodo_baja\"].between(1, w_top + churn-1)]\n",
    "\n",
    "    # Preparamos columnas de pólizas por período\n",
    "    print(\"Preparando pólizas por períodos...                             \", end=\"\\r\", flush=True)\n",
    "    grouped_df[[f\"polizas_{i}\" for i in range(6, 0, -1)]] = grouped_df[\"hist_polizas\"].str.split(\" \", expand=True).iloc[:,w_low-1:w_top].astype(float)\n",
    "    \n",
    "    # Calculamos campos adicionales (Diferencias entre periodos)\n",
    "    print(\"Preparando campos adicionales...                             \", end=\"\\r\", flush=True)\n",
    "    for i in range(5, 0, -1):\n",
    "        grouped_df[f\"diff_cant_polizas_{i}\"] = grouped_df[f\"polizas_{i}\"] - grouped_df[f\"polizas_{i+1}\"]    \n",
    "        current_int = [col for col in grouped_df.columns if re.search(f'({i})__TIPOINT', col)]\n",
    "        next_int = [col for col in grouped_df.columns if re.search(f'({i+1})__TIPOINT', col)]\n",
    "        grouped_df[f\"diff_cant_int_{i}\"] =  grouped_df[current_int].sum(axis=1) - grouped_df[next_int].sum(axis=1)\n",
    "        \n",
    "    # Marcamos aquellos que se dieron de baja a los cuatro meses del periodo analizado\n",
    "    print(\"Creando flag de baja...                             \", end=\"\\r\", flush=True)\n",
    "    grouped_df[f\"BAJA_{churn}m\"] = grouped_df[\"periodo_baja\"] == (w_top + churn)\n",
    "\n",
    "    # Marcamos un flag para saber la ventana de tiempo que se analiza\n",
    "    print(\"Creando flag de periodo...                        \", end=\"\\r\", flush=True)\n",
    "    grouped_df[\"time_window\"] = f\"{w_low} a {w_top}\"\n",
    "\n",
    "    # Agregamos el tipo de dataset\n",
    "    # 1 to validation\n",
    "    # 1 to optimization\n",
    "    # rest to train\n",
    "    \n",
    "    if(w_top > (total_periods-churn-3)):\n",
    "        grouped_df[\"dataset\"] = 'val'\n",
    "    elif(w_top > (total_periods-churn-4)):\n",
    "        grouped_df[\"dataset\"] = 'opt'\n",
    "    else:\n",
    "        grouped_df[\"dataset\"] = 'train'\n",
    "    \n",
    "    # Agregamos el periodo al datafame final \n",
    "    final_df = pd.concat([final_df, grouped_df], ignore_index=True)\n",
    "    \n",
    "    del grouped_df\n",
    "    w_low += 1\n",
    "    w_top += 1\n",
    "    print(\"Next window...                        \")\n",
    "    \n",
    "    \n",
    "del non_periodic_df\n",
    "print(\"Ready!\")"
   ]
  },
  {
   "cell_type": "code",
   "execution_count": 8,
   "metadata": {},
   "outputs": [
    {
     "data": {
      "text/plain": [
       "(2727708, 126)"
      ]
     },
     "execution_count": 8,
     "metadata": {},
     "output_type": "execute_result"
    }
   ],
   "source": [
    "final_df.shape"
   ]
  },
  {
   "cell_type": "code",
   "execution_count": 9,
   "metadata": {},
   "outputs": [
    {
     "data": {
      "text/plain": [
       "train    1363984\n",
       "opt       684122\n",
       "val       679602\n",
       "Name: dataset, dtype: int64"
      ]
     },
     "execution_count": 9,
     "metadata": {},
     "output_type": "execute_result"
    }
   ],
   "source": [
    "final_df['dataset'].value_counts()"
   ]
  },
  {
   "cell_type": "code",
   "execution_count": 11,
   "metadata": {},
   "outputs": [
    {
     "data": {
      "text/html": [
       "<div>\n",
       "<style scoped>\n",
       "    .dataframe tbody tr th:only-of-type {\n",
       "        vertical-align: middle;\n",
       "    }\n",
       "\n",
       "    .dataframe tbody tr th {\n",
       "        vertical-align: top;\n",
       "    }\n",
       "\n",
       "    .dataframe thead th {\n",
       "        text-align: right;\n",
       "    }\n",
       "</style>\n",
       "<table border=\"1\" class=\"dataframe\">\n",
       "  <thead>\n",
       "    <tr style=\"text-align: right;\">\n",
       "      <th></th>\n",
       "      <th>CIF_ID</th>\n",
       "      <th>hist_polizas</th>\n",
       "      <th>periodo_baja</th>\n",
       "      <th>ANO_DE_NACIMIENTO</th>\n",
       "      <th>POSICION_IVA</th>\n",
       "      <th>6__SITUACION_AM</th>\n",
       "      <th>5__SITUACION_AM</th>\n",
       "      <th>4__SITUACION_AM</th>\n",
       "      <th>3__SITUACION_AM</th>\n",
       "      <th>2__SITUACION_AM</th>\n",
       "      <th>...</th>\n",
       "      <th>diff_cant_int_4</th>\n",
       "      <th>diff_cant_polizas_3</th>\n",
       "      <th>diff_cant_int_3</th>\n",
       "      <th>diff_cant_polizas_2</th>\n",
       "      <th>diff_cant_int_2</th>\n",
       "      <th>diff_cant_polizas_1</th>\n",
       "      <th>diff_cant_int_1</th>\n",
       "      <th>BAJA_2m</th>\n",
       "      <th>time_window</th>\n",
       "      <th>dataset</th>\n",
       "    </tr>\n",
       "  </thead>\n",
       "  <tbody>\n",
       "    <tr>\n",
       "      <th>2727626</th>\n",
       "      <td>23047572.0</td>\n",
       "      <td>0 0 0 0 0 0 0 0 1 1 0 0 0 0 0 0 0 0</td>\n",
       "      <td>11</td>\n",
       "      <td>2000.0</td>\n",
       "      <td>5.0</td>\n",
       "      <td>NaN</td>\n",
       "      <td>NaN</td>\n",
       "      <td>NaN</td>\n",
       "      <td>NaN</td>\n",
       "      <td>NaN</td>\n",
       "      <td>...</td>\n",
       "      <td>2.0</td>\n",
       "      <td>0.0</td>\n",
       "      <td>-2.0</td>\n",
       "      <td>0.0</td>\n",
       "      <td>0.0</td>\n",
       "      <td>1.0</td>\n",
       "      <td>0.0</td>\n",
       "      <td>True</td>\n",
       "      <td>4 a 9</td>\n",
       "      <td>val</td>\n",
       "    </tr>\n",
       "    <tr>\n",
       "      <th>2727627</th>\n",
       "      <td>23047630.0</td>\n",
       "      <td>0 0 0 0 0 0 0 0 1 1 0 0 0 0 0 0 0 0</td>\n",
       "      <td>11</td>\n",
       "      <td>1964.0</td>\n",
       "      <td>5.0</td>\n",
       "      <td>NaN</td>\n",
       "      <td>NaN</td>\n",
       "      <td>NaN</td>\n",
       "      <td>NaN</td>\n",
       "      <td>NaN</td>\n",
       "      <td>...</td>\n",
       "      <td>6.0</td>\n",
       "      <td>0.0</td>\n",
       "      <td>-9.0</td>\n",
       "      <td>0.0</td>\n",
       "      <td>0.0</td>\n",
       "      <td>1.0</td>\n",
       "      <td>0.0</td>\n",
       "      <td>True</td>\n",
       "      <td>4 a 9</td>\n",
       "      <td>val</td>\n",
       "    </tr>\n",
       "    <tr>\n",
       "      <th>2727629</th>\n",
       "      <td>23047635.0</td>\n",
       "      <td>0 0 0 0 0 0 0 0 1 1 0 0 0 0 0 0 0 0</td>\n",
       "      <td>11</td>\n",
       "      <td>1991.0</td>\n",
       "      <td>5.0</td>\n",
       "      <td>NaN</td>\n",
       "      <td>NaN</td>\n",
       "      <td>NaN</td>\n",
       "      <td>NaN</td>\n",
       "      <td>NaN</td>\n",
       "      <td>...</td>\n",
       "      <td>5.0</td>\n",
       "      <td>0.0</td>\n",
       "      <td>6.0</td>\n",
       "      <td>0.0</td>\n",
       "      <td>-11.0</td>\n",
       "      <td>1.0</td>\n",
       "      <td>0.0</td>\n",
       "      <td>True</td>\n",
       "      <td>4 a 9</td>\n",
       "      <td>val</td>\n",
       "    </tr>\n",
       "    <tr>\n",
       "      <th>2727639</th>\n",
       "      <td>23047769.0</td>\n",
       "      <td>0 0 0 0 0 0 0 0 1 1 0 0 0 0 0 0 0 0</td>\n",
       "      <td>11</td>\n",
       "      <td>1987.0</td>\n",
       "      <td>5.0</td>\n",
       "      <td>NaN</td>\n",
       "      <td>NaN</td>\n",
       "      <td>NaN</td>\n",
       "      <td>NaN</td>\n",
       "      <td>NaN</td>\n",
       "      <td>...</td>\n",
       "      <td>-10.0</td>\n",
       "      <td>0.0</td>\n",
       "      <td>-6.0</td>\n",
       "      <td>0.0</td>\n",
       "      <td>-4.0</td>\n",
       "      <td>1.0</td>\n",
       "      <td>-1.0</td>\n",
       "      <td>True</td>\n",
       "      <td>4 a 9</td>\n",
       "      <td>val</td>\n",
       "    </tr>\n",
       "    <tr>\n",
       "      <th>2727677</th>\n",
       "      <td>23048090.0</td>\n",
       "      <td>0 0 0 0 0 0 0 0 1 1 0 0 0 0 0 0 0 0</td>\n",
       "      <td>11</td>\n",
       "      <td>1965.0</td>\n",
       "      <td>5.0</td>\n",
       "      <td>NaN</td>\n",
       "      <td>NaN</td>\n",
       "      <td>NaN</td>\n",
       "      <td>NaN</td>\n",
       "      <td>NaN</td>\n",
       "      <td>...</td>\n",
       "      <td>11.0</td>\n",
       "      <td>0.0</td>\n",
       "      <td>-13.0</td>\n",
       "      <td>0.0</td>\n",
       "      <td>-2.0</td>\n",
       "      <td>1.0</td>\n",
       "      <td>0.0</td>\n",
       "      <td>True</td>\n",
       "      <td>4 a 9</td>\n",
       "      <td>val</td>\n",
       "    </tr>\n",
       "  </tbody>\n",
       "</table>\n",
       "<p>5 rows × 126 columns</p>\n",
       "</div>"
      ],
      "text/plain": [
       "             CIF_ID                         hist_polizas  periodo_baja  \\\n",
       "2727626  23047572.0  0 0 0 0 0 0 0 0 1 1 0 0 0 0 0 0 0 0            11   \n",
       "2727627  23047630.0  0 0 0 0 0 0 0 0 1 1 0 0 0 0 0 0 0 0            11   \n",
       "2727629  23047635.0  0 0 0 0 0 0 0 0 1 1 0 0 0 0 0 0 0 0            11   \n",
       "2727639  23047769.0  0 0 0 0 0 0 0 0 1 1 0 0 0 0 0 0 0 0            11   \n",
       "2727677  23048090.0  0 0 0 0 0 0 0 0 1 1 0 0 0 0 0 0 0 0            11   \n",
       "\n",
       "         ANO_DE_NACIMIENTO  POSICION_IVA  6__SITUACION_AM  5__SITUACION_AM  \\\n",
       "2727626             2000.0           5.0              NaN              NaN   \n",
       "2727627             1964.0           5.0              NaN              NaN   \n",
       "2727629             1991.0           5.0              NaN              NaN   \n",
       "2727639             1987.0           5.0              NaN              NaN   \n",
       "2727677             1965.0           5.0              NaN              NaN   \n",
       "\n",
       "         4__SITUACION_AM  3__SITUACION_AM  2__SITUACION_AM  ...  \\\n",
       "2727626              NaN              NaN              NaN  ...   \n",
       "2727627              NaN              NaN              NaN  ...   \n",
       "2727629              NaN              NaN              NaN  ...   \n",
       "2727639              NaN              NaN              NaN  ...   \n",
       "2727677              NaN              NaN              NaN  ...   \n",
       "\n",
       "         diff_cant_int_4  diff_cant_polizas_3  diff_cant_int_3  \\\n",
       "2727626              2.0                  0.0             -2.0   \n",
       "2727627              6.0                  0.0             -9.0   \n",
       "2727629              5.0                  0.0              6.0   \n",
       "2727639            -10.0                  0.0             -6.0   \n",
       "2727677             11.0                  0.0            -13.0   \n",
       "\n",
       "         diff_cant_polizas_2  diff_cant_int_2  diff_cant_polizas_1  \\\n",
       "2727626                  0.0              0.0                  1.0   \n",
       "2727627                  0.0              0.0                  1.0   \n",
       "2727629                  0.0            -11.0                  1.0   \n",
       "2727639                  0.0             -4.0                  1.0   \n",
       "2727677                  0.0             -2.0                  1.0   \n",
       "\n",
       "         diff_cant_int_1  BAJA_2m  time_window  dataset  \n",
       "2727626              0.0     True        4 a 9      val  \n",
       "2727627              0.0     True        4 a 9      val  \n",
       "2727629              0.0     True        4 a 9      val  \n",
       "2727639             -1.0     True        4 a 9      val  \n",
       "2727677              0.0     True        4 a 9      val  \n",
       "\n",
       "[5 rows x 126 columns]"
      ]
     },
     "execution_count": 11,
     "metadata": {},
     "output_type": "execute_result"
    }
   ],
   "source": [
    "final_df[final_df[f'BAJA_{churn}m']].tail(5)"
   ]
  },
  {
   "cell_type": "code",
   "execution_count": 12,
   "metadata": {},
   "outputs": [
    {
     "data": {
      "text/html": [
       "<div>\n",
       "<style scoped>\n",
       "    .dataframe tbody tr th:only-of-type {\n",
       "        vertical-align: middle;\n",
       "    }\n",
       "\n",
       "    .dataframe tbody tr th {\n",
       "        vertical-align: top;\n",
       "    }\n",
       "\n",
       "    .dataframe thead th {\n",
       "        text-align: right;\n",
       "    }\n",
       "</style>\n",
       "<table border=\"1\" class=\"dataframe\">\n",
       "  <thead>\n",
       "    <tr style=\"text-align: right;\">\n",
       "      <th></th>\n",
       "      <th>CIF_ID</th>\n",
       "      <th>hist_polizas</th>\n",
       "      <th>periodo_baja</th>\n",
       "      <th>ANO_DE_NACIMIENTO</th>\n",
       "      <th>POSICION_IVA</th>\n",
       "      <th>6__SITUACION_AM</th>\n",
       "      <th>5__SITUACION_AM</th>\n",
       "      <th>4__SITUACION_AM</th>\n",
       "      <th>3__SITUACION_AM</th>\n",
       "      <th>2__SITUACION_AM</th>\n",
       "      <th>...</th>\n",
       "      <th>diff_cant_int_4</th>\n",
       "      <th>diff_cant_polizas_3</th>\n",
       "      <th>diff_cant_int_3</th>\n",
       "      <th>diff_cant_polizas_2</th>\n",
       "      <th>diff_cant_int_2</th>\n",
       "      <th>diff_cant_polizas_1</th>\n",
       "      <th>diff_cant_int_1</th>\n",
       "      <th>BAJA_2m</th>\n",
       "      <th>time_window</th>\n",
       "      <th>dataset</th>\n",
       "    </tr>\n",
       "  </thead>\n",
       "  <tbody>\n",
       "    <tr>\n",
       "      <th>2727626</th>\n",
       "      <td>23047572.0</td>\n",
       "      <td>0 0 0 0 0 0 0 0 1 1 0 0 0 0 0 0 0 0</td>\n",
       "      <td>11</td>\n",
       "      <td>2000.0</td>\n",
       "      <td>5.0</td>\n",
       "      <td>NaN</td>\n",
       "      <td>NaN</td>\n",
       "      <td>NaN</td>\n",
       "      <td>NaN</td>\n",
       "      <td>NaN</td>\n",
       "      <td>...</td>\n",
       "      <td>2.0</td>\n",
       "      <td>0.0</td>\n",
       "      <td>-2.0</td>\n",
       "      <td>0.0</td>\n",
       "      <td>0.0</td>\n",
       "      <td>1.0</td>\n",
       "      <td>0.0</td>\n",
       "      <td>True</td>\n",
       "      <td>4 a 9</td>\n",
       "      <td>val</td>\n",
       "    </tr>\n",
       "  </tbody>\n",
       "</table>\n",
       "<p>1 rows × 126 columns</p>\n",
       "</div>"
      ],
      "text/plain": [
       "             CIF_ID                         hist_polizas  periodo_baja  \\\n",
       "2727626  23047572.0  0 0 0 0 0 0 0 0 1 1 0 0 0 0 0 0 0 0            11   \n",
       "\n",
       "         ANO_DE_NACIMIENTO  POSICION_IVA  6__SITUACION_AM  5__SITUACION_AM  \\\n",
       "2727626             2000.0           5.0              NaN              NaN   \n",
       "\n",
       "         4__SITUACION_AM  3__SITUACION_AM  2__SITUACION_AM  ...  \\\n",
       "2727626              NaN              NaN              NaN  ...   \n",
       "\n",
       "         diff_cant_int_4  diff_cant_polizas_3  diff_cant_int_3  \\\n",
       "2727626              2.0                  0.0             -2.0   \n",
       "\n",
       "         diff_cant_polizas_2  diff_cant_int_2  diff_cant_polizas_1  \\\n",
       "2727626                  0.0              0.0                  1.0   \n",
       "\n",
       "         diff_cant_int_1  BAJA_2m  time_window  dataset  \n",
       "2727626              0.0     True        4 a 9      val  \n",
       "\n",
       "[1 rows x 126 columns]"
      ]
     },
     "execution_count": 12,
     "metadata": {},
     "output_type": "execute_result"
    }
   ],
   "source": [
    "final_df[final_df['CIF_ID'] == 23047572.0]"
   ]
  },
  {
   "cell_type": "markdown",
   "metadata": {},
   "source": [
    "Una vez verificados los datos, eliminamos las columnas que no se van a usar más"
   ]
  },
  {
   "cell_type": "code",
   "execution_count": 13,
   "metadata": {},
   "outputs": [],
   "source": [
    "final_df = final_df.drop([\"time_window\",\"hist_polizas\",\"periodo_baja\"], axis=1)"
   ]
  },
  {
   "cell_type": "code",
   "execution_count": null,
   "metadata": {},
   "outputs": [],
   "source": []
  },
  {
   "cell_type": "markdown",
   "metadata": {},
   "source": [
    "## Guardamos los datsets"
   ]
  },
  {
   "cell_type": "markdown",
   "metadata": {},
   "source": [
    "### Train"
   ]
  },
  {
   "cell_type": "code",
   "execution_count": 14,
   "metadata": {},
   "outputs": [],
   "source": [
    "final_df[final_df['dataset'] == 'train'].drop(columns='dataset').reset_index(drop=True).to_feather(f\"../../data/processed/Churn_{churn}_train_set.feather\")"
   ]
  },
  {
   "cell_type": "markdown",
   "metadata": {},
   "source": [
    "### Opt"
   ]
  },
  {
   "cell_type": "code",
   "execution_count": 15,
   "metadata": {},
   "outputs": [],
   "source": [
    "final_df[final_df['dataset'] == 'opt'].drop(columns='dataset').reset_index(drop=True).to_feather(f\"../../data/processed/Churn_{churn}_optimization_set.feather\")"
   ]
  },
  {
   "cell_type": "markdown",
   "metadata": {},
   "source": [
    "### Val"
   ]
  },
  {
   "cell_type": "code",
   "execution_count": 16,
   "metadata": {},
   "outputs": [],
   "source": [
    "final_df[final_df['dataset'] == 'val'].drop(columns='dataset').reset_index(drop=True).to_feather(f\"../../data/processed/Churn_{churn}_validation_set.feather\")"
   ]
  }
 ],
 "metadata": {
  "kernelspec": {
   "display_name": "Python 3",
   "language": "python",
   "name": "python3"
  },
  "language_info": {
   "codemirror_mode": {
    "name": "ipython",
    "version": 3
   },
   "file_extension": ".py",
   "mimetype": "text/x-python",
   "name": "python",
   "nbconvert_exporter": "python",
   "pygments_lexer": "ipython3",
   "version": "3.6.5"
  }
 },
 "nbformat": 4,
 "nbformat_minor": 4
}
