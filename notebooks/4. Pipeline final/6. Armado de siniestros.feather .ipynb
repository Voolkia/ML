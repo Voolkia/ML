{
 "cells": [
  {
   "cell_type": "code",
   "execution_count": 1,
   "metadata": {},
   "outputs": [],
   "source": [
    "import pandas as pd\n",
    "pd.set_option(\"display.max_columns\", 500)\n",
    "pd.set_option(\"display.max_rows\", 500)"
   ]
  },
  {
   "cell_type": "code",
   "execution_count": 2,
   "metadata": {},
   "outputs": [],
   "source": [
    "table = \"DSS_SINIESTROS_AUTO_1A.tsv\"\n",
    "location = \"../../data/raw\"\n",
    "sep = '\\t'\n",
    "encoding = 'latin1'\n",
    "decimal = ','"
   ]
  },
  {
   "cell_type": "markdown",
   "metadata": {},
   "source": [
    "## Selecting columns to use"
   ]
  },
  {
   "cell_type": "code",
   "execution_count": 3,
   "metadata": {},
   "outputs": [],
   "source": [
    "usable_cols = [\"NUM_SECU_POL\",\n",
    "    \"MODELO_VEHICULO\",\n",
    "    \"FEC_DENU_SINI\",\n",
    "    \"FECHA_LIQUIDACION\",\n",
    "    \"FECHA_RECHAZO\"]"
   ]
  },
  {
   "cell_type": "markdown",
   "metadata": {},
   "source": [
    "## Creating siniestros.feahter"
   ]
  },
  {
   "cell_type": "code",
   "execution_count": 4,
   "metadata": {},
   "outputs": [
    {
     "name": "stderr",
     "output_type": "stream",
     "text": [
      "C:\\Users\\Santi\\Anaconda3\\lib\\site-packages\\IPython\\core\\interactiveshell.py:2785: DtypeWarning: Columns (3) have mixed types. Specify dtype option on import or set low_memory=False.\n",
      "  interactivity=interactivity, compiler=compiler, result=result)\n"
     ]
    }
   ],
   "source": [
    "df = pd.read_csv(f\"{location}/{table}\",\n",
    "                     sep=sep,\n",
    "                     encoding=encoding,\n",
    "                     decimal=decimal,\n",
    "                     usecols = usable_cols)"
   ]
  },
  {
   "cell_type": "code",
   "execution_count": 5,
   "metadata": {},
   "outputs": [
    {
     "data": {
      "text/plain": [
       "(6089218, 5)"
      ]
     },
     "execution_count": 5,
     "metadata": {},
     "output_type": "execute_result"
    }
   ],
   "source": [
    "df.shape"
   ]
  },
  {
   "cell_type": "code",
   "execution_count": 6,
   "metadata": {},
   "outputs": [
    {
     "data": {
      "text/plain": [
       "NUM_SECU_POL           int64\n",
       "MODELO_VEHICULO      float64\n",
       "FEC_DENU_SINI         object\n",
       "FECHA_LIQUIDACION     object\n",
       "FECHA_RECHAZO         object\n",
       "dtype: object"
      ]
     },
     "execution_count": 6,
     "metadata": {},
     "output_type": "execute_result"
    }
   ],
   "source": [
    "df.dtypes"
   ]
  },
  {
   "cell_type": "code",
   "execution_count": 7,
   "metadata": {},
   "outputs": [],
   "source": [
    "def lookup(s):\n",
    "    dates = {date:pd.to_datetime(date, format=\"%d/%m/%Y\") for date in s.unique()}\n",
    "    return s.map(dates)\n",
    "\n",
    "for fecha in [col for col in df.columns if \"FEC\" in col]:\n",
    "    df[fecha] = lookup(df[fecha])"
   ]
  },
  {
   "cell_type": "code",
   "execution_count": 8,
   "metadata": {},
   "outputs": [
    {
     "data": {
      "text/plain": [
       "NUM_SECU_POL                  int64\n",
       "MODELO_VEHICULO             float64\n",
       "FEC_DENU_SINI        datetime64[ns]\n",
       "FECHA_LIQUIDACION    datetime64[ns]\n",
       "FECHA_RECHAZO        datetime64[ns]\n",
       "dtype: object"
      ]
     },
     "execution_count": 8,
     "metadata": {},
     "output_type": "execute_result"
    }
   ],
   "source": [
    "df.dtypes"
   ]
  },
  {
   "cell_type": "code",
   "execution_count": 9,
   "metadata": {},
   "outputs": [
    {
     "data": {
      "text/html": [
       "<div>\n",
       "<style scoped>\n",
       "    .dataframe tbody tr th:only-of-type {\n",
       "        vertical-align: middle;\n",
       "    }\n",
       "\n",
       "    .dataframe tbody tr th {\n",
       "        vertical-align: top;\n",
       "    }\n",
       "\n",
       "    .dataframe thead th {\n",
       "        text-align: right;\n",
       "    }\n",
       "</style>\n",
       "<table border=\"1\" class=\"dataframe\">\n",
       "  <thead>\n",
       "    <tr style=\"text-align: right;\">\n",
       "      <th></th>\n",
       "      <th>FEC_DENU_SINI</th>\n",
       "      <th>FECHA_LIQUIDACION</th>\n",
       "      <th>FECHA_RECHAZO</th>\n",
       "    </tr>\n",
       "  </thead>\n",
       "  <tbody>\n",
       "    <tr>\n",
       "      <th>MIN</th>\n",
       "      <td>1992-03-12</td>\n",
       "      <td>2010-01-21</td>\n",
       "      <td>1998-06-01</td>\n",
       "    </tr>\n",
       "    <tr>\n",
       "      <th>MAX</th>\n",
       "      <td>2019-11-30</td>\n",
       "      <td>2019-11-30</td>\n",
       "      <td>2019-11-29</td>\n",
       "    </tr>\n",
       "  </tbody>\n",
       "</table>\n",
       "</div>"
      ],
      "text/plain": [
       "    FEC_DENU_SINI FECHA_LIQUIDACION FECHA_RECHAZO\n",
       "MIN    1992-03-12        2010-01-21    1998-06-01\n",
       "MAX    2019-11-30        2019-11-30    2019-11-29"
      ]
     },
     "execution_count": 9,
     "metadata": {},
     "output_type": "execute_result"
    }
   ],
   "source": [
    "data = {col: [df[col].min(),df[col].max()] for col in [col for col in df.columns if \"FEC\" in col]}\n",
    "pd.DataFrame(data, index =['MIN', 'MAX'])"
   ]
  },
  {
   "cell_type": "code",
   "execution_count": 10,
   "metadata": {},
   "outputs": [],
   "source": [
    "for fecha in [col for col in df.columns if \"FEC\" in col]:\n",
    "    df[fecha] = df[fecha].dt.strftime('%Y-%m')"
   ]
  },
  {
   "cell_type": "code",
   "execution_count": 11,
   "metadata": {
    "collapsed": true,
    "jupyter": {
     "outputs_hidden": true
    }
   },
   "outputs": [
    {
     "data": {
      "text/plain": [
       "2018-11    241111\n",
       "2018-12    240796\n",
       "2019-03    233461\n",
       "2019-01    219508\n",
       "2019-04    209349\n",
       "2019-02    206786\n",
       "2019-05    205100\n",
       "2019-07    192057\n",
       "2019-06    182083\n",
       "2019-08    170889\n",
       "2019-09    147088\n",
       "2019-10    127500\n",
       "2019-11     75885\n",
       "Name: FEC_DENU_SINI, dtype: int64"
      ]
     },
     "execution_count": 11,
     "metadata": {},
     "output_type": "execute_result"
    }
   ],
   "source": [
    "df[df[\"FEC_DENU_SINI\"] > '2018-10'][\"FEC_DENU_SINI\"].value_counts()"
   ]
  },
  {
   "cell_type": "code",
   "execution_count": 12,
   "metadata": {},
   "outputs": [],
   "source": [
    "df[df[\"FEC_DENU_SINI\"] > '2018-10'].reset_index(drop=True).to_feather(\"siniestros.feather\")"
   ]
  },
  {
   "cell_type": "code",
   "execution_count": null,
   "metadata": {},
   "outputs": [],
   "source": []
  }
 ],
 "metadata": {
  "kernelspec": {
   "display_name": "Python 3",
   "language": "python",
   "name": "python3"
  },
  "language_info": {
   "codemirror_mode": {
    "name": "ipython",
    "version": 3
   },
   "file_extension": ".py",
   "mimetype": "text/x-python",
   "name": "python",
   "nbconvert_exporter": "python",
   "pygments_lexer": "ipython3",
   "version": "3.6.5"
  }
 },
 "nbformat": 4,
 "nbformat_minor": 4
}
