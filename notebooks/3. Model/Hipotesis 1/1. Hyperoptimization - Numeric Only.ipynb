{
 "cells": [
  {
   "cell_type": "code",
   "execution_count": 1,
   "metadata": {},
   "outputs": [],
   "source": [
    "import pandas as pd\n",
    "import numpy as np\n",
    "import seaborn as sns\n",
    "import matplotlib.pyplot as plt\n",
    "from sklearn.metrics import roc_auc_score, f1_score, confusion_matrix\n",
    "\n",
    "churn = 1"
   ]
  },
  {
   "cell_type": "markdown",
   "metadata": {},
   "source": [
    "Loading datasets"
   ]
  },
  {
   "cell_type": "code",
   "execution_count": 2,
   "metadata": {
    "scrolled": true
   },
   "outputs": [],
   "source": [
    "df_train = pd.read_feather(f\"../../../data/processed/Churn_{churn}_train_set.feather\")"
   ]
  },
  {
   "cell_type": "code",
   "execution_count": 3,
   "metadata": {},
   "outputs": [],
   "source": [
    "df_opt = pd.read_feather(f\"../../../data/processed/Churn_{churn}_optimization_set.feather\")"
   ]
  },
  {
   "cell_type": "markdown",
   "metadata": {},
   "source": [
    "split X, y "
   ]
  },
  {
   "cell_type": "code",
   "execution_count": 4,
   "metadata": {},
   "outputs": [],
   "source": [
    "X_train = df_train.drop([f'BAJA_{churn}m', 'ORIGEN', 'SEXO', 'TIPO_PERSONA', 'CLIENTE', 'FECHA_NACIMIENTO', 'ESTADO_CIVIL', 'time_window'], axis=1)\n",
    "y_train = df_train[f'BAJA_{churn}m']\n",
    "del df_train"
   ]
  },
  {
   "cell_type": "code",
   "execution_count": 5,
   "metadata": {},
   "outputs": [],
   "source": [
    "X_opt = df_opt.drop([f'BAJA_{churn}m','ORIGEN', 'SEXO', 'TIPO_PERSONA', 'CLIENTE', 'FECHA_NACIMIENTO', 'ESTADO_CIVIL', 'time_window'], axis=1)\n",
    "y_opt = df_opt[f'BAJA_{churn}m']\n",
    "del df_opt"
   ]
  },
  {
   "cell_type": "code",
   "execution_count": 6,
   "metadata": {},
   "outputs": [],
   "source": [
    "cols = list(X_train.columns)"
   ]
  },
  {
   "cell_type": "code",
   "execution_count": 21,
   "metadata": {},
   "outputs": [],
   "source": [
    "X_train = X_train.fillna(-999)"
   ]
  },
  {
   "cell_type": "code",
   "execution_count": 7,
   "metadata": {},
   "outputs": [],
   "source": [
    "X_opt = X_opt.fillna(-999)\n",
    "for col in [col for col in X_train.columns if col not in X_opt.columns]:\n",
    "    X_opt[col] = -999"
   ]
  },
  {
   "cell_type": "code",
   "execution_count": 8,
   "metadata": {},
   "outputs": [],
   "source": [
    "X_opt = X_opt.drop([col for col in X_opt.columns if col not in X_train.columns], axis=1)"
   ]
  },
  {
   "cell_type": "code",
   "execution_count": 9,
   "metadata": {},
   "outputs": [
    {
     "name": "stdout",
     "output_type": "stream",
     "text": [
      "False    0.97762\n",
      "True     0.02238\n",
      "Name: BAJA_1m, dtype: float64\n",
      "False    0.9769\n",
      "True     0.0231\n",
      "Name: BAJA_1m, dtype: float64\n"
     ]
    }
   ],
   "source": [
    "for y in [y_train, y_opt]:\n",
    "    print(y.value_counts(normalize=True))"
   ]
  },
  {
   "cell_type": "code",
   "execution_count": 10,
   "metadata": {},
   "outputs": [
    {
     "data": {
      "text/plain": [
       "120"
      ]
     },
     "execution_count": 10,
     "metadata": {},
     "output_type": "execute_result"
    }
   ],
   "source": [
    "len(X_opt.columns) "
   ]
  },
  {
   "cell_type": "code",
   "execution_count": 11,
   "metadata": {},
   "outputs": [
    {
     "data": {
      "text/plain": [
       "120"
      ]
     },
     "execution_count": 11,
     "metadata": {},
     "output_type": "execute_result"
    }
   ],
   "source": [
    "len(X_train.columns)"
   ]
  },
  {
   "cell_type": "markdown",
   "metadata": {},
   "source": [
    "## Training"
   ]
  },
  {
   "cell_type": "code",
   "execution_count": 23,
   "metadata": {},
   "outputs": [],
   "source": [
    "from hyperopt import tpe, fmin, space_eval, Trials, STATUS_OK, hp\n",
    "from sklearn.metrics import f1_score, roc_auc_score \n",
    "from numpy.random import RandomState\n",
    "from sklearn.ensemble import RandomForestClassifier, ExtraTreesClassifier\n",
    "from tqdm import tqdm_notebook as tqdm"
   ]
  },
  {
   "cell_type": "code",
   "execution_count": 24,
   "metadata": {},
   "outputs": [],
   "source": [
    "from sklearn.utils.class_weight import compute_class_weight "
   ]
  },
  {
   "cell_type": "code",
   "execution_count": 25,
   "metadata": {},
   "outputs": [
    {
     "data": {
      "text/plain": [
       "{0: 1.0, 1: 43.68329579195249}"
      ]
     },
     "execution_count": 25,
     "metadata": {},
     "output_type": "execute_result"
    }
   ],
   "source": [
    "cw = compute_class_weight(\"balanced\", y_train.unique(), y_train)\n",
    "{i:val for i,val in enumerate(cw * (1/cw[0]))}"
   ]
  },
  {
   "cell_type": "code",
   "execution_count": 26,
   "metadata": {},
   "outputs": [],
   "source": [
    "space = {\n",
    "    \"algo\": hp.choice(\"algo\", [RandomForestClassifier, ExtraTreesClassifier]),\n",
    "    \"params\": {\n",
    "        \"n_estimators\": hp.choice(\"n_estimators\", [40, 80, 100]),  # 100, 400\n",
    "        \"min_samples_leaf\": hp.choice(\"min_samples_leaf\", [5, 20, 35, 55]), # , 65\n",
    "        \"max_depth\": hp.choice(\"max_depth\", [5, 10, 15]), # 10,\n",
    "        \"max_features\": hp.choice(\"max_features\", ['sqrt', 0.5, None]),\n",
    "        \"class_weight\": hp.choice(\"class_weight\", [{0:1, 1:25}, {0:1, 1:35},  {0:1, 1:45}]) ,\n",
    "    }\n",
    "}"
   ]
  },
  {
   "cell_type": "code",
   "execution_count": 27,
   "metadata": {},
   "outputs": [
    {
     "data": {
      "application/vnd.jupyter.widget-view+json": {
       "model_id": "7e8a8925ff3042f38d3c63f1cdec844b",
       "version_major": 2,
       "version_minor": 0
      },
      "text/plain": [
       "HBox(children=(IntProgress(value=0, max=30), HTML(value='')))"
      ]
     },
     "metadata": {},
     "output_type": "display_data"
    },
    {
     "name": "stdout",
     "output_type": "stream",
     "text": [
      "Testing <class 'sklearn.ensemble.forest.ExtraTreesClassifier'> with 80 estimators\n",
      "Current Score: 0.42386190500108833\n",
      "Testing <class 'sklearn.ensemble.forest.ExtraTreesClassifier'> with 100 estimators\n",
      "Current Score: 0.542505382412575\n",
      "Testing <class 'sklearn.ensemble.forest.RandomForestClassifier'> with 100 estimators\n",
      "Current Score: 0.7171947566572315\n",
      "Testing <class 'sklearn.ensemble.forest.ExtraTreesClassifier'> with 40 estimators\n",
      "Current Score: 0.40794315904536343\n",
      "Testing <class 'sklearn.ensemble.forest.ExtraTreesClassifier'> with 80 estimators\n",
      "Current Score: 0.5630006028765826\n",
      "Testing <class 'sklearn.ensemble.forest.ExtraTreesClassifier'> with 80 estimators\n",
      "Current Score: 0.6032839962997225\n",
      "Testing <class 'sklearn.ensemble.forest.ExtraTreesClassifier'> with 40 estimators\n",
      "Current Score: 0.623717902524561\n",
      "Testing <class 'sklearn.ensemble.forest.RandomForestClassifier'> with 100 estimators\n",
      "Current Score: 0.7903548680618744\n",
      "Testing <class 'sklearn.ensemble.forest.RandomForestClassifier'> with 40 estimators\n",
      "Current Score: 0.8083660952980029\n",
      "Testing <class 'sklearn.ensemble.forest.ExtraTreesClassifier'> with 40 estimators\n",
      "Current Score: 0.2776727027583753\n",
      "Testing <class 'sklearn.ensemble.forest.RandomForestClassifier'> with 100 estimators\n",
      "Current Score: 0.5096952908587257\n",
      "Testing <class 'sklearn.ensemble.forest.ExtraTreesClassifier'> with 40 estimators\n",
      "Current Score: 0.2513846885724965\n",
      "Testing <class 'sklearn.ensemble.forest.RandomForestClassifier'> with 80 estimators\n",
      "Current Score: 0.7895374916651512\n",
      "Testing <class 'sklearn.ensemble.forest.ExtraTreesClassifier'> with 40 estimators\n",
      "Current Score: 0.5359790217009767\n",
      "Testing <class 'sklearn.ensemble.forest.RandomForestClassifier'> with 40 estimators\n",
      "Current Score: 0.7948733672655914\n",
      "Testing <class 'sklearn.ensemble.forest.ExtraTreesClassifier'> with 40 estimators\n",
      "Current Score: 0.6807138926016195\n",
      "Testing <class 'sklearn.ensemble.forest.ExtraTreesClassifier'> with 100 estimators\n",
      "Current Score: 0.5769179806545647\n",
      "Testing <class 'sklearn.ensemble.forest.RandomForestClassifier'> with 40 estimators\n",
      "Current Score: 0.6838733489757718\n",
      "Testing <class 'sklearn.ensemble.forest.ExtraTreesClassifier'> with 40 estimators\n",
      "Current Score: 0.120777123468672\n",
      "Testing <class 'sklearn.ensemble.forest.ExtraTreesClassifier'> with 40 estimators\n",
      "Current Score: 0.19794546459855078\n",
      "Testing <class 'sklearn.ensemble.forest.RandomForestClassifier'> with 40 estimators\n",
      "Current Score: 0.8083660952980029\n",
      "Testing <class 'sklearn.ensemble.forest.RandomForestClassifier'> with 40 estimators\n",
      "Current Score: 0.8083660952980029\n",
      "Testing <class 'sklearn.ensemble.forest.RandomForestClassifier'> with 40 estimators\n",
      "Current Score: 0.8083660952980029\n",
      "Testing <class 'sklearn.ensemble.forest.RandomForestClassifier'> with 40 estimators\n",
      "Current Score: 0.8083660952980029\n",
      "Testing <class 'sklearn.ensemble.forest.RandomForestClassifier'> with 40 estimators\n",
      "Current Score: 0.8083660952980029\n",
      "Testing <class 'sklearn.ensemble.forest.RandomForestClassifier'> with 40 estimators\n",
      "Current Score: 0.8083660952980029\n",
      "Testing <class 'sklearn.ensemble.forest.RandomForestClassifier'> with 80 estimators\n",
      "Current Score: 0.8097007874015748\n",
      "Testing <class 'sklearn.ensemble.forest.RandomForestClassifier'> with 80 estimators\n",
      "Current Score: 0.8097007874015748\n",
      "Testing <class 'sklearn.ensemble.forest.RandomForestClassifier'> with 80 estimators\n",
      "Current Score: 0.8097007874015748\n",
      "Testing <class 'sklearn.ensemble.forest.RandomForestClassifier'> with 80 estimators\n",
      "Current Score: 0.8097007874015748\n",
      "{'algo': <class 'sklearn.ensemble.forest.RandomForestClassifier'>, 'params': {'class_weight': {0: 1, 1: 35}, 'max_depth': 15, 'max_features': 'sqrt', 'min_samples_leaf': 5, 'n_estimators': 80, 'verbose': 0, 'n_jobs': -1, 'random_state': 42}}\n"
     ]
    }
   ],
   "source": [
    "evals = 30\n",
    "pbar = tqdm(total=evals)\n",
    "\n",
    "def __optimizerFunc(args):\n",
    "    pbar.update(0.5)\n",
    "    print(f\"Testing {args['algo']} with {args['params']['n_estimators']} estimators\")\n",
    "    args[\"params\"][\"verbose\"] = 0\n",
    "    args[\"params\"][\"n_jobs\"] = -1\n",
    "    args[\"params\"][\"random_state\"] = 42\n",
    "    model = args[\"algo\"](**args[\"params\"])\n",
    "    model.fit(X_train, y_train)\n",
    "    y_pred = model.predict(X_opt)\n",
    "    pbar.update(0.5)\n",
    "    # greater is better\n",
    "    score = f1_score(y_opt, y_pred)\n",
    "    print(f\"Current Score: {score}\")\n",
    "    return {\"loss\": 1-score, \"status\": STATUS_OK, \"config\":args}\n",
    "         \n",
    "trials = Trials()\n",
    "try:\n",
    "    __bestClassifier = fmin(fn=__optimizerFunc,\n",
    "                            space=space,\n",
    "                            algo=tpe.suggest,\n",
    "                            max_evals=evals,\n",
    "                            trials=trials,\n",
    "                            rstate=RandomState(42)\n",
    "                            )\n",
    "except KeyboardInterrupt:\n",
    "    print(\"Execution stopped... saving current results\")\n",
    "finally:\n",
    "    losses = [result[\"loss\"] for result in trials.results if result[\"status\"] == 'ok']\n",
    "    opt_config = trials.results[losses.index(min(losses))][\"config\"]\n",
    "    pbar.close()\n",
    "    print(opt_config)"
   ]
  },
  {
   "cell_type": "code",
   "execution_count": 28,
   "metadata": {},
   "outputs": [],
   "source": [
    "rf = opt_config['algo'](**opt_config['params'])"
   ]
  },
  {
   "cell_type": "code",
   "execution_count": 29,
   "metadata": {},
   "outputs": [
    {
     "data": {
      "text/plain": [
       "RandomForestClassifier(bootstrap=True, class_weight={0: 1, 1: 35},\n",
       "                       criterion='gini', max_depth=15, max_features='sqrt',\n",
       "                       max_leaf_nodes=None, min_impurity_decrease=0.0,\n",
       "                       min_impurity_split=None, min_samples_leaf=5,\n",
       "                       min_samples_split=2, min_weight_fraction_leaf=0.0,\n",
       "                       n_estimators=80, n_jobs=-1, oob_score=False,\n",
       "                       random_state=42, verbose=0, warm_start=False)"
      ]
     },
     "execution_count": 29,
     "metadata": {},
     "output_type": "execute_result"
    }
   ],
   "source": [
    "rf"
   ]
  },
  {
   "cell_type": "code",
   "execution_count": 21,
   "metadata": {},
   "outputs": [],
   "source": [
    "rf = RandomForestClassifier(bootstrap=True, class_weight={0: 1, 1: 20},\n",
    "            criterion='gini', max_depth=10, max_features=None,\n",
    "            max_leaf_nodes=None, min_impurity_decrease=0.0,\n",
    "            min_impurity_split=None, min_samples_leaf=35,\n",
    "            min_samples_split=2, min_weight_fraction_leaf=0.0,\n",
    "            n_estimators=80, n_jobs=-1, oob_score=False, random_state=None,\n",
    "            verbose=2, warm_start=False)"
   ]
  },
  {
   "cell_type": "code",
   "execution_count": 30,
   "metadata": {
    "scrolled": true
   },
   "outputs": [
    {
     "data": {
      "text/plain": [
       "RandomForestClassifier(bootstrap=True, class_weight={0: 1, 1: 35},\n",
       "                       criterion='gini', max_depth=15, max_features='sqrt',\n",
       "                       max_leaf_nodes=None, min_impurity_decrease=0.0,\n",
       "                       min_impurity_split=None, min_samples_leaf=5,\n",
       "                       min_samples_split=2, min_weight_fraction_leaf=0.0,\n",
       "                       n_estimators=80, n_jobs=-1, oob_score=False,\n",
       "                       random_state=42, verbose=0, warm_start=False)"
      ]
     },
     "execution_count": 30,
     "metadata": {},
     "output_type": "execute_result"
    }
   ],
   "source": [
    "rf.fit(X_train, y_train)"
   ]
  },
  {
   "cell_type": "markdown",
   "metadata": {},
   "source": [
    "---"
   ]
  },
  {
   "cell_type": "markdown",
   "metadata": {},
   "source": [
    "### Feature importance"
   ]
  },
  {
   "cell_type": "code",
   "execution_count": 31,
   "metadata": {},
   "outputs": [
    {
     "data": {
      "text/plain": [
       "<matplotlib.axes._subplots.AxesSubplot at 0x1cf5cb51978>"
      ]
     },
     "execution_count": 31,
     "metadata": {},
     "output_type": "execute_result"
    },
    {
     "data": {
      "image/png": "[encoded data removed]",
      "text/plain": [
       "<Figure size 432x288 with 1 Axes>"
      ]
     },
     "metadata": {},
     "output_type": "display_data"
    }
   ],
   "source": [
    "pd.DataFrame(rf.feature_importances_,index=X_train.columns, columns=['importance']\n",
    "                                   ).sort_values('importance', ascending=False).iloc[0:20].plot.bar()"
   ]
  },
  {
   "cell_type": "markdown",
   "metadata": {},
   "source": [
    "**METRICS**"
   ]
  },
  {
   "cell_type": "code",
   "execution_count": 32,
   "metadata": {},
   "outputs": [],
   "source": [
    "df_val = pd.read_feather(f\"../../../data/processed/Churn_{churn}_validation_set.feather\")"
   ]
  },
  {
   "cell_type": "code",
   "execution_count": 33,
   "metadata": {},
   "outputs": [],
   "source": [
    "X_val = df_val.drop([f'BAJA_{churn}m','ORIGEN', 'SEXO', 'TIPO_PERSONA', 'CLIENTE', 'FECHA_NACIMIENTO', 'ESTADO_CIVIL', 'time_window'], axis=1)\n",
    "y_val = df_val[f\"BAJA_{churn}m\"]\n",
    "del df_val"
   ]
  },
  {
   "cell_type": "code",
   "execution_count": 34,
   "metadata": {},
   "outputs": [],
   "source": [
    "X_val = X_val.fillna(-999)\n",
    "for col in [col for col in X_train.columns if col not in X_val.columns]:\n",
    "    X_val[col] = -999"
   ]
  },
  {
   "cell_type": "code",
   "execution_count": 35,
   "metadata": {},
   "outputs": [],
   "source": [
    "X_val = X_val.drop([col for col in X_val.columns if col not in X_train.columns], axis=1)"
   ]
  },
  {
   "cell_type": "code",
   "execution_count": 36,
   "metadata": {},
   "outputs": [
    {
     "data": {
      "text/plain": [
       "120"
      ]
     },
     "execution_count": 36,
     "metadata": {},
     "output_type": "execute_result"
    }
   ],
   "source": [
    "len(X_val.columns)"
   ]
  },
  {
   "cell_type": "code",
   "execution_count": 37,
   "metadata": {},
   "outputs": [
    {
     "data": {
      "text/plain": [
       "False    554027\n",
       "True      19240\n",
       "dtype: int64"
      ]
     },
     "execution_count": 37,
     "metadata": {},
     "output_type": "execute_result"
    }
   ],
   "source": [
    "predictions = rf.predict(X_val)\n",
    "pd.Series(predictions).value_counts()"
   ]
  },
  {
   "cell_type": "code",
   "execution_count": 38,
   "metadata": {},
   "outputs": [],
   "source": [
    "import seaborn as sns"
   ]
  },
  {
   "cell_type": "code",
   "execution_count": 39,
   "metadata": {},
   "outputs": [
    {
     "data": {
      "text/plain": [
       "<matplotlib.axes._subplots.AxesSubplot at 0x1cf5d13a320>"
      ]
     },
     "execution_count": 39,
     "metadata": {},
     "output_type": "execute_result"
    },
    {
     "data": {
      "image/png": "[encoded data removed]",
      "text/plain": [
       "<Figure size 432x288 with 2 Axes>"
      ]
     },
     "metadata": {},
     "output_type": "display_data"
    }
   ],
   "source": [
    "cmap = sns.color_palette(\"coolwarm\", 7)\n",
    "sns.set(font_scale=1)\n",
    "sns.heatmap(confusion_matrix(y_val, predictions), annot=True, fmt=\"d\", linewidths=.5, cmap=cmap) "
   ]
  },
  {
   "cell_type": "code",
   "execution_count": 40,
   "metadata": {},
   "outputs": [
    {
     "name": "stdout",
     "output_type": "stream",
     "text": [
      "ROC AUC: 0.9836595961837556 \n"
     ]
    }
   ],
   "source": [
    "print(f'ROC AUC: {roc_auc_score(y_val, predictions)} ') "
   ]
  },
  {
   "cell_type": "code",
   "execution_count": 41,
   "metadata": {},
   "outputs": [
    {
     "data": {
      "text/plain": [
       "<matplotlib.axes._subplots.AxesSubplot at 0x1cf5d1bf518>"
      ]
     },
     "execution_count": 41,
     "metadata": {},
     "output_type": "execute_result"
    },
    {
     "data": {
      "image/png": "[encoded data removed]",
      "text/plain": [
       "<Figure size 360x360 with 1 Axes>"
      ]
     },
     "metadata": {},
     "output_type": "display_data"
    }
   ],
   "source": [
    "data = pd.DataFrame(columns=range(2), data=[f1_score(y_val, predictions, average=None)])\n",
    "data.index = [\"F1 Score\"]\n",
    "import matplotlib.pyplot as plt\n",
    "fig=plt.figure(figsize=(5,5))\n",
    "sns.set(font_scale=1.3)\n",
    "cmap = sns.color_palette(\"coolwarm_r\", 7)\n",
    "sns.heatmap(data, annot=True, linewidths=.5, cmap=cmap, square=True, cbar=False)"
   ]
  },
  {
   "cell_type": "code",
   "execution_count": 42,
   "metadata": {},
   "outputs": [
    {
     "data": {
      "image/png": "[encoded data removed]",
      "text/plain": [
       "<Figure size 720x720 with 1 Axes>"
      ]
     },
     "metadata": {},
     "output_type": "display_data"
    }
   ],
   "source": [
    "from sklearn.metrics import roc_curve\n",
    "\n",
    "probs = rf.predict_proba(X_val)\n",
    "probs = probs[:, 1]\n",
    "fig=plt.figure(figsize=(10,10))\n",
    "fpr, tpr, thresholds = roc_curve(y_val, probs)\n",
    "plt.plot([0, 1], [0, 1], linestyle='--')\n",
    "plt.plot(fpr, tpr, marker='.')\n",
    "plt.show()"
   ]
  },
  {
   "cell_type": "markdown",
   "metadata": {},
   "source": [
    "### METRICS AGAINST TEST DATASET"
   ]
  },
  {
   "cell_type": "code",
   "execution_count": 45,
   "metadata": {},
   "outputs": [],
   "source": [
    "df_test = pd.read_feather(f\"../../../data/processed/Churn_{churn}_test_set.feather\")"
   ]
  },
  {
   "cell_type": "code",
   "execution_count": 46,
   "metadata": {},
   "outputs": [],
   "source": [
    "X_test = df_test.drop([f'BAJA_{churn}m','ORIGEN', 'SEXO', 'TIPO_PERSONA', 'CLIENTE', 'FECHA_NACIMIENTO', 'ESTADO_CIVIL', 'time_window'], axis=1)\n",
    "y_test = df_test[f\"BAJA_{churn}m\"]\n",
    "del df_test"
   ]
  },
  {
   "cell_type": "code",
   "execution_count": 47,
   "metadata": {},
   "outputs": [],
   "source": [
    "X_test = X_test.fillna(-999)\n",
    "for col in [col for col in X_train.columns if col not in X_test.columns]:\n",
    "    X_test[col] = -999"
   ]
  },
  {
   "cell_type": "code",
   "execution_count": 48,
   "metadata": {},
   "outputs": [],
   "source": [
    "X_test = X_test.drop([col for col in X_test.columns if col not in X_train.columns], axis=1)"
   ]
  },
  {
   "cell_type": "code",
   "execution_count": 49,
   "metadata": {},
   "outputs": [
    {
     "data": {
      "text/plain": [
       "120"
      ]
     },
     "execution_count": 49,
     "metadata": {},
     "output_type": "execute_result"
    }
   ],
   "source": [
    "len(X_test.columns)"
   ]
  },
  {
   "cell_type": "code",
   "execution_count": 50,
   "metadata": {},
   "outputs": [
    {
     "data": {
      "text/plain": [
       "False    547495\n",
       "True      16469\n",
       "dtype: int64"
      ]
     },
     "execution_count": 50,
     "metadata": {},
     "output_type": "execute_result"
    }
   ],
   "source": [
    "predictions = rf.predict(X_test)\n",
    "pd.Series(predictions).value_counts()"
   ]
  },
  {
   "cell_type": "code",
   "execution_count": 52,
   "metadata": {},
   "outputs": [
    {
     "data": {
      "text/plain": [
       "<matplotlib.axes._subplots.AxesSubplot at 0x1cf5e2cfac8>"
      ]
     },
     "execution_count": 52,
     "metadata": {},
     "output_type": "execute_result"
    },
    {
     "data": {
      "image/png": "[encoded data removed]",
      "text/plain": [
       "<Figure size 432x288 with 2 Axes>"
      ]
     },
     "metadata": {},
     "output_type": "display_data"
    }
   ],
   "source": [
    "cmap = sns.color_palette(\"coolwarm\", 7)\n",
    "sns.set(font_scale=1)\n",
    "sns.heatmap(confusion_matrix(y_test, predictions), annot=True, fmt=\"d\", linewidths=.5, cmap=cmap) "
   ]
  },
  {
   "cell_type": "code",
   "execution_count": 54,
   "metadata": {},
   "outputs": [
    {
     "name": "stdout",
     "output_type": "stream",
     "text": [
      "ROC AUC: 0.9838564538592207 \n"
     ]
    }
   ],
   "source": [
    "print(f'ROC AUC: {roc_auc_score(y_test, predictions)} ') "
   ]
  },
  {
   "cell_type": "code",
   "execution_count": 55,
   "metadata": {},
   "outputs": [
    {
     "data": {
      "text/plain": [
       "<matplotlib.axes._subplots.AxesSubplot at 0x1cf5e1368d0>"
      ]
     },
     "execution_count": 55,
     "metadata": {},
     "output_type": "execute_result"
    },
    {
     "data": {
      "image/png": "[encoded data removed]",
      "text/plain": [
       "<Figure size 360x360 with 1 Axes>"
      ]
     },
     "metadata": {},
     "output_type": "display_data"
    }
   ],
   "source": [
    "data = pd.DataFrame(columns=range(2), data=[f1_score(y_test, predictions, average=None)])\n",
    "data.index = [\"F1 Score\"]\n",
    "import matplotlib.pyplot as plt\n",
    "fig=plt.figure(figsize=(5,5))\n",
    "sns.set(font_scale=1.3)\n",
    "cmap = sns.color_palette(\"coolwarm_r\", 7)\n",
    "sns.heatmap(data, annot=True, linewidths=.5, cmap=cmap, square=True, cbar=False)"
   ]
  },
  {
   "cell_type": "code",
   "execution_count": 56,
   "metadata": {},
   "outputs": [
    {
     "data": {
      "image/png": "[encoded data removed]",
      "text/plain": [
       "<Figure size 720x720 with 1 Axes>"
      ]
     },
     "metadata": {},
     "output_type": "display_data"
    }
   ],
   "source": [
    "probs = rf.predict_proba(X_test)\n",
    "probs = probs[:, 1]\n",
    "fig=plt.figure(figsize=(10,10))\n",
    "fpr, tpr, thresholds = roc_curve(y_test, probs)\n",
    "plt.plot([0, 1], [0, 1], linestyle='--')\n",
    "plt.plot(fpr, tpr, marker='.')\n",
    "plt.show()"
   ]
  },
  {
   "cell_type": "markdown",
   "metadata": {},
   "source": [
    "#### Dumping model"
   ]
  },
  {
   "cell_type": "code",
   "execution_count": 43,
   "metadata": {},
   "outputs": [],
   "source": [
    "import pickle"
   ]
  },
  {
   "cell_type": "code",
   "execution_count": 44,
   "metadata": {},
   "outputs": [],
   "source": [
    "with open(f'../../../src/models/Churn{churn}-Hyperotimization-Numeric.md', 'wb') as file:\n",
    "    pickle.dump(rf, file, pickle.HIGHEST_PROTOCOL)"
   ]
  },
  {
   "cell_type": "code",
   "execution_count": null,
   "metadata": {},
   "outputs": [],
   "source": []
  },
  {
   "cell_type": "code",
   "execution_count": null,
   "metadata": {},
   "outputs": [],
   "source": []
  }
 ],
 "metadata": {
  "kernelspec": {
   "display_name": "Python 3",
   "language": "python",
   "name": "python3"
  },
  "language_info": {
   "codemirror_mode": {
    "name": "ipython",
    "version": 3
   },
   "file_extension": ".py",
   "mimetype": "text/x-python",
   "name": "python",
   "nbconvert_exporter": "python",
   "pygments_lexer": "ipython3",
   "version": "3.7.3"
  }
 },
 "nbformat": 4,
 "nbformat_minor": 4
}
