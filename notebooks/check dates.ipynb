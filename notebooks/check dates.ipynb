{
 "cells": [
  {
   "cell_type": "markdown",
   "metadata": {},
   "source": [
    "## Verificación de fechas en las tablas"
   ]
  },
  {
   "cell_type": "code",
   "execution_count": 1,
   "metadata": {},
   "outputs": [],
   "source": [
    "import pandas as pd"
   ]
  },
  {
   "cell_type": "code",
   "execution_count": 13,
   "metadata": {},
   "outputs": [],
   "source": [
    "ARCHIVO_POLIZAS = \"../data/01mar_31ago/VIGABT_POLIZAS.tsv\"\n",
    "ARCHIVO_PAGOS = \"../data/01mar_31ago/TB_PAGOS.tsv\"\n",
    "ARCHIVO_SINIESTROS = \"../data/01mar_31ago/DSS_SINIESTROS_AUTOS.csv\"\n",
    "ARCHIVO_INTERACCIONES = \"../data/01mar_31ago/TB_INTERACCIONES.tsv\"\n",
    "SEP_POLIZAS = \"\\t\"\n",
    "SEP_PAGOS = \"\\t\"\n",
    "SEP_SINIESTROS = \";\"\n",
    "SEP_INTERACCIONES = \"\\t\""
   ]
  },
  {
   "cell_type": "code",
   "execution_count": 8,
   "metadata": {},
   "outputs": [],
   "source": [
    "COLS_POLIZA = [\n",
    "    'FECHA_VIG_POL',\n",
    "]\n",
    "COLS_PAGOS = [\n",
    "    'FECHA_VTO',\n",
    "]\n",
    "COLS_SINIESTROS = [\n",
    "    \"FEC_DENU_SINI\",\n",
    "]\n",
    "COLS_INTERACCIONES = [\n",
    "    'FECHA',\n",
    "]"
   ]
  },
  {
   "cell_type": "code",
   "execution_count": 16,
   "metadata": {},
   "outputs": [],
   "source": [
    "def transform_date(s):\n",
    "    dates = {date: pd.to_datetime(date) for date in s.unique()}\n",
    "    return s.map(dates)"
   ]
  },
  {
   "cell_type": "markdown",
   "metadata": {},
   "source": [
    "## Polizas"
   ]
  },
  {
   "cell_type": "code",
   "execution_count": 9,
   "metadata": {},
   "outputs": [],
   "source": [
    "df_polizas = pd.read_csv(ARCHIVO_POLIZAS,\n",
    "                         sep=SEP_POLIZAS,\n",
    "                         encoding='latin1',\n",
    "                         decimal=',',\n",
    "                         usecols=COLS_POLIZA)"
   ]
  },
  {
   "cell_type": "code",
   "execution_count": 17,
   "metadata": {},
   "outputs": [],
   "source": [
    "df_polizas[COLS_POLIZA[0]] = transform_date(df_polizas[COLS_POLIZA[0]])"
   ]
  },
  {
   "cell_type": "code",
   "execution_count": 20,
   "metadata": {},
   "outputs": [
    {
     "data": {
      "text/html": [
       "<div>\n",
       "<style scoped>\n",
       "    .dataframe tbody tr th:only-of-type {\n",
       "        vertical-align: middle;\n",
       "    }\n",
       "\n",
       "    .dataframe tbody tr th {\n",
       "        vertical-align: top;\n",
       "    }\n",
       "\n",
       "    .dataframe thead th {\n",
       "        text-align: right;\n",
       "    }\n",
       "</style>\n",
       "<table border=\"1\" class=\"dataframe\">\n",
       "  <thead>\n",
       "    <tr style=\"text-align: right;\">\n",
       "      <th></th>\n",
       "      <th>Rango</th>\n",
       "    </tr>\n",
       "  </thead>\n",
       "  <tbody>\n",
       "    <tr>\n",
       "      <th>MIN</th>\n",
       "      <td>2018-01-09</td>\n",
       "    </tr>\n",
       "    <tr>\n",
       "      <th>MAX</th>\n",
       "      <td>2019-12-08</td>\n",
       "    </tr>\n",
       "  </tbody>\n",
       "</table>\n",
       "</div>"
      ],
      "text/plain": [
       "         Rango\n",
       "MIN 2018-01-09\n",
       "MAX 2019-12-08"
      ]
     },
     "execution_count": 20,
     "metadata": {},
     "output_type": "execute_result"
    }
   ],
   "source": [
    "pd.DataFrame({\"Rango\": [df_polizas[COLS_POLIZA[0]].min(),df_polizas[COLS_POLIZA[0]].max()]}, index =['MIN', 'MAX'])"
   ]
  },
  {
   "cell_type": "markdown",
   "metadata": {},
   "source": [
    "## Pagos"
   ]
  },
  {
   "cell_type": "code",
   "execution_count": 10,
   "metadata": {},
   "outputs": [],
   "source": [
    "df_pagos = pd.read_csv(ARCHIVO_PAGOS,\n",
    "                       sep=SEP_PAGOS,\n",
    "                       encoding='latin1',\n",
    "                       decimal=',',\n",
    "                       usecols=COLS_PAGOS)"
   ]
  },
  {
   "cell_type": "code",
   "execution_count": 19,
   "metadata": {},
   "outputs": [],
   "source": [
    "df_pagos[COLS_PAGOS[0]] = transform_date(df_pagos[COLS_PAGOS[0]])"
   ]
  },
  {
   "cell_type": "code",
   "execution_count": 21,
   "metadata": {},
   "outputs": [
    {
     "data": {
      "text/html": [
       "<div>\n",
       "<style scoped>\n",
       "    .dataframe tbody tr th:only-of-type {\n",
       "        vertical-align: middle;\n",
       "    }\n",
       "\n",
       "    .dataframe tbody tr th {\n",
       "        vertical-align: top;\n",
       "    }\n",
       "\n",
       "    .dataframe thead th {\n",
       "        text-align: right;\n",
       "    }\n",
       "</style>\n",
       "<table border=\"1\" class=\"dataframe\">\n",
       "  <thead>\n",
       "    <tr style=\"text-align: right;\">\n",
       "      <th></th>\n",
       "      <th>Rango</th>\n",
       "    </tr>\n",
       "  </thead>\n",
       "  <tbody>\n",
       "    <tr>\n",
       "      <th>MIN</th>\n",
       "      <td>1996-12-01</td>\n",
       "    </tr>\n",
       "    <tr>\n",
       "      <th>MAX</th>\n",
       "      <td>2021-01-01</td>\n",
       "    </tr>\n",
       "  </tbody>\n",
       "</table>\n",
       "</div>"
      ],
      "text/plain": [
       "         Rango\n",
       "MIN 1996-12-01\n",
       "MAX 2021-01-01"
      ]
     },
     "execution_count": 21,
     "metadata": {},
     "output_type": "execute_result"
    }
   ],
   "source": [
    "pd.DataFrame({\"Rango\": [df_pagos[COLS_PAGOS[0]].min(),df_pagos[COLS_PAGOS[0]].max()]}, index =['MIN', 'MAX'])"
   ]
  },
  {
   "cell_type": "markdown",
   "metadata": {},
   "source": [
    "## Siniestros"
   ]
  },
  {
   "cell_type": "code",
   "execution_count": 11,
   "metadata": {},
   "outputs": [],
   "source": [
    "df_sini = pd.read_csv(ARCHIVO_SINIESTROS,\n",
    "                      sep=SEP_SINIESTROS,\n",
    "                      encoding='latin1',\n",
    "                      decimal=',',\n",
    "                      usecols=COLS_SINIESTROS)"
   ]
  },
  {
   "cell_type": "code",
   "execution_count": 22,
   "metadata": {},
   "outputs": [],
   "source": [
    "df_sini[COLS_SINIESTROS[0]] = transform_date(df_sini[COLS_SINIESTROS[0]])"
   ]
  },
  {
   "cell_type": "code",
   "execution_count": 23,
   "metadata": {},
   "outputs": [
    {
     "data": {
      "text/html": [
       "<div>\n",
       "<style scoped>\n",
       "    .dataframe tbody tr th:only-of-type {\n",
       "        vertical-align: middle;\n",
       "    }\n",
       "\n",
       "    .dataframe tbody tr th {\n",
       "        vertical-align: top;\n",
       "    }\n",
       "\n",
       "    .dataframe thead th {\n",
       "        text-align: right;\n",
       "    }\n",
       "</style>\n",
       "<table border=\"1\" class=\"dataframe\">\n",
       "  <thead>\n",
       "    <tr style=\"text-align: right;\">\n",
       "      <th></th>\n",
       "      <th>Rango</th>\n",
       "    </tr>\n",
       "  </thead>\n",
       "  <tbody>\n",
       "    <tr>\n",
       "      <th>MIN</th>\n",
       "      <td>1992-12-03</td>\n",
       "    </tr>\n",
       "    <tr>\n",
       "      <th>MAX</th>\n",
       "      <td>2019-12-04</td>\n",
       "    </tr>\n",
       "  </tbody>\n",
       "</table>\n",
       "</div>"
      ],
      "text/plain": [
       "         Rango\n",
       "MIN 1992-12-03\n",
       "MAX 2019-12-04"
      ]
     },
     "execution_count": 23,
     "metadata": {},
     "output_type": "execute_result"
    }
   ],
   "source": [
    "pd.DataFrame({\"Rango\": [df_sini[COLS_SINIESTROS[0]].min(),df_sini[COLS_SINIESTROS[0]].max()]}, index =['MIN', 'MAX'])"
   ]
  },
  {
   "cell_type": "markdown",
   "metadata": {},
   "source": [
    "## Interacciones"
   ]
  },
  {
   "cell_type": "code",
   "execution_count": 14,
   "metadata": {},
   "outputs": [],
   "source": [
    "df_interacciones = pd.read_csv(ARCHIVO_INTERACCIONES,\n",
    "                               sep=SEP_INTERACCIONES,\n",
    "                               encoding='latin1',\n",
    "                               decimal=',',\n",
    "                               usecols=COLS_INTERACCIONES)"
   ]
  },
  {
   "cell_type": "code",
   "execution_count": 27,
   "metadata": {},
   "outputs": [],
   "source": [
    "df_interacciones[COLS_INTERACCIONES[0]] = df_interacciones[COLS_INTERACCIONES[0]].str.slice(stop=10)\n",
    "df_interacciones.loc[df_interacciones[COLS_INTERACCIONES[0]].str.contains(\" [0-9]\", na=False), COLS_INTERACCIONES[0]] = df_interacciones.loc[df_interacciones[COLS_INTERACCIONES[0]].str.contains(\" [0-9]\", na=False), COLS_INTERACCIONES[0]].str.slice(stop=8) \n",
    "df_interacciones[COLS_INTERACCIONES[0]] = df_interacciones[COLS_INTERACCIONES[0]].str.replace(\" \", \"\")"
   ]
  },
  {
   "cell_type": "code",
   "execution_count": 28,
   "metadata": {},
   "outputs": [],
   "source": [
    "df_interacciones[COLS_INTERACCIONES[0]] = transform_date(df_interacciones[COLS_INTERACCIONES[0]])"
   ]
  },
  {
   "cell_type": "code",
   "execution_count": 33,
   "metadata": {},
   "outputs": [
    {
     "data": {
      "text/html": [
       "<div>\n",
       "<style scoped>\n",
       "    .dataframe tbody tr th:only-of-type {\n",
       "        vertical-align: middle;\n",
       "    }\n",
       "\n",
       "    .dataframe tbody tr th {\n",
       "        vertical-align: top;\n",
       "    }\n",
       "\n",
       "    .dataframe thead th {\n",
       "        text-align: right;\n",
       "    }\n",
       "</style>\n",
       "<table border=\"1\" class=\"dataframe\">\n",
       "  <thead>\n",
       "    <tr style=\"text-align: right;\">\n",
       "      <th></th>\n",
       "      <th>Rango</th>\n",
       "    </tr>\n",
       "  </thead>\n",
       "  <tbody>\n",
       "    <tr>\n",
       "      <th>MIN</th>\n",
       "      <td>2019-01-03</td>\n",
       "    </tr>\n",
       "    <tr>\n",
       "      <th>MAX</th>\n",
       "      <td>2019-01-09</td>\n",
       "    </tr>\n",
       "  </tbody>\n",
       "</table>\n",
       "</div>"
      ],
      "text/plain": [
       "         Rango\n",
       "MIN 2019-01-03\n",
       "MAX 2019-01-09"
      ]
     },
     "execution_count": 33,
     "metadata": {},
     "output_type": "execute_result"
    }
   ],
   "source": [
    "pd.DataFrame({\"Rango\": [df_interacciones[COLS_INTERACCIONES[0]].min(),df_interacciones[COLS_INTERACCIONES[0]].max()]}, index =['MIN', 'MAX'])"
   ]
  },
  {
   "cell_type": "code",
   "execution_count": 32,
   "metadata": {},
   "outputs": [],
   "source": [
    "df_interacciones = df_interacciones[df_interacciones[COLS_INTERACCIONES[0]].between('2019-01-03', '2019-01-09')]"
   ]
  }
 ],
 "metadata": {
  "kernelspec": {
   "display_name": "Python 3",
   "language": "python",
   "name": "python3"
  },
  "language_info": {
   "codemirror_mode": {
    "name": "ipython",
    "version": 3
   },
   "file_extension": ".py",
   "mimetype": "text/x-python",
   "name": "python",
   "nbconvert_exporter": "python",
   "pygments_lexer": "ipython3",
   "version": "3.7.3"
  }
 },
 "nbformat": 4,
 "nbformat_minor": 2
}
